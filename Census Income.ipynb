{
 "cells": [
  {
   "cell_type": "markdown",
   "id": "a75a8916",
   "metadata": {},
   "source": [
    "## Census Income"
   ]
  },
  {
   "cell_type": "markdown",
   "id": "1a73bfba",
   "metadata": {},
   "source": [
    "Задача состоит в том, чтобы предсказать превышает ли доход человека 50K долларов в год, испльзуя для этого данные переписи. Признаки из периписи и значения, которые они могут принимать:"
   ]
  },
  {
   "cell_type": "markdown",
   "id": "bf3bad16",
   "metadata": {},
   "source": [
    "* age: continuous  \n",
    "* workclass: Private, Self-emp-not-inc, Self-emp-inc, Federal-gov, Local-gov, State-gov, Without-pay, Never-worked  \n",
    "* fnlwgt: continuous  \n",
    "* education: Bachelors, Some-college, 11th, HS-grad, Prof-school, Assoc-acdm, Assoc-voc, 9th, 7th-8th, 12th, Masters, 1st-4th, 10th, Doctorate, 5th-6th, Preschool \n",
    "* education-num: continuous\n",
    "* marital-status: Married-civ-spouse, Divorced, Never-married, Separated, Widowed, Married-spouse-absent, Married-AF-spouse  \n",
    "* occupation: Tech-support, Craft-repair, Other-service, Sales, Exec-managerial, Prof-specialty, Handlers-cleaners, Machine-op-inspct, Adm-clerical, Farming-fishing, Transport-moving, Priv-house-serv, Protective-serv, Armed-Forces.\n",
    "* relationship: Wife, Own-child, Husband, Not-in-family, Other-relative, Unmarried.\n",
    "* race: White, Asian-Pac-Islander, Amer-Indian-Eskimo, Other, Black.\n",
    "* sex: Female, Male  \n",
    "* capital-gain: continuous  \n",
    "* capital-loss: continuous  \n",
    "* hours-per-week: continuous  \n",
    "* native-country: United-States, Cambodia, England, Puerto-Rico, Canada, Germany, Outlying-US(Guam-USVI-etc), India, Japan, Greece, South, China, Cuba, Iran, Honduras, Philippines, Italy, Poland, Jamaica, Vietnam, Mexico, Portugal, Ireland, France, Dominican-Republic, Laos, Ecuador, Taiwan, Haiti, Columbia, Hungary, Guatemala, Nicaragua, Scotland, Thailand, Yugoslavia, El-Salvador, Trinadad&Tobago, Peru, Hong, Holand-Netherlands  \n",
    "* income: <=50K, >50K\n"
   ]
  },
  {
   "cell_type": "markdown",
   "id": "ce660dd2",
   "metadata": {},
   "source": [
    "###  Подготовка"
   ]
  },
  {
   "cell_type": "code",
   "execution_count": 80,
   "id": "9e95000b",
   "metadata": {},
   "outputs": [],
   "source": [
    "import pandas as pd\n",
    "import numpy as np\n",
    "import matplotlib.pyplot as plt\n",
    "import seaborn as sns "
   ]
  },
  {
   "cell_type": "code",
   "execution_count": 81,
   "id": "8d6545a6",
   "metadata": {},
   "outputs": [],
   "source": [
    "data = pd.read_csv('adult.csv')"
   ]
  },
  {
   "cell_type": "code",
   "execution_count": 82,
   "id": "87b7c39a",
   "metadata": {},
   "outputs": [
    {
     "data": {
      "text/html": [
       "<div>\n",
       "<style scoped>\n",
       "    .dataframe tbody tr th:only-of-type {\n",
       "        vertical-align: middle;\n",
       "    }\n",
       "\n",
       "    .dataframe tbody tr th {\n",
       "        vertical-align: top;\n",
       "    }\n",
       "\n",
       "    .dataframe thead th {\n",
       "        text-align: right;\n",
       "    }\n",
       "</style>\n",
       "<table border=\"1\" class=\"dataframe\">\n",
       "  <thead>\n",
       "    <tr style=\"text-align: right;\">\n",
       "      <th></th>\n",
       "      <th>age</th>\n",
       "      <th>workclass</th>\n",
       "      <th>fnlwgt</th>\n",
       "      <th>education</th>\n",
       "      <th>education-num</th>\n",
       "      <th>marital-status</th>\n",
       "      <th>occupation</th>\n",
       "      <th>relationship</th>\n",
       "      <th>race</th>\n",
       "      <th>sex</th>\n",
       "      <th>capital-gain</th>\n",
       "      <th>capital-loss</th>\n",
       "      <th>hours-per-week</th>\n",
       "      <th>native-country</th>\n",
       "      <th>income</th>\n",
       "    </tr>\n",
       "  </thead>\n",
       "  <tbody>\n",
       "    <tr>\n",
       "      <th>0</th>\n",
       "      <td>39</td>\n",
       "      <td>State-gov</td>\n",
       "      <td>77516</td>\n",
       "      <td>Bachelors</td>\n",
       "      <td>13</td>\n",
       "      <td>Never-married</td>\n",
       "      <td>Adm-clerical</td>\n",
       "      <td>Not-in-family</td>\n",
       "      <td>White</td>\n",
       "      <td>Male</td>\n",
       "      <td>2174</td>\n",
       "      <td>0</td>\n",
       "      <td>40</td>\n",
       "      <td>United-States</td>\n",
       "      <td>&lt;=50K</td>\n",
       "    </tr>\n",
       "    <tr>\n",
       "      <th>1</th>\n",
       "      <td>50</td>\n",
       "      <td>Self-emp-not-inc</td>\n",
       "      <td>83311</td>\n",
       "      <td>Bachelors</td>\n",
       "      <td>13</td>\n",
       "      <td>Married-civ-spouse</td>\n",
       "      <td>Exec-managerial</td>\n",
       "      <td>Husband</td>\n",
       "      <td>White</td>\n",
       "      <td>Male</td>\n",
       "      <td>0</td>\n",
       "      <td>0</td>\n",
       "      <td>13</td>\n",
       "      <td>United-States</td>\n",
       "      <td>&lt;=50K</td>\n",
       "    </tr>\n",
       "    <tr>\n",
       "      <th>2</th>\n",
       "      <td>38</td>\n",
       "      <td>Private</td>\n",
       "      <td>215646</td>\n",
       "      <td>HS-grad</td>\n",
       "      <td>9</td>\n",
       "      <td>Divorced</td>\n",
       "      <td>Handlers-cleaners</td>\n",
       "      <td>Not-in-family</td>\n",
       "      <td>White</td>\n",
       "      <td>Male</td>\n",
       "      <td>0</td>\n",
       "      <td>0</td>\n",
       "      <td>40</td>\n",
       "      <td>United-States</td>\n",
       "      <td>&lt;=50K</td>\n",
       "    </tr>\n",
       "    <tr>\n",
       "      <th>3</th>\n",
       "      <td>53</td>\n",
       "      <td>Private</td>\n",
       "      <td>234721</td>\n",
       "      <td>11th</td>\n",
       "      <td>7</td>\n",
       "      <td>Married-civ-spouse</td>\n",
       "      <td>Handlers-cleaners</td>\n",
       "      <td>Husband</td>\n",
       "      <td>Black</td>\n",
       "      <td>Male</td>\n",
       "      <td>0</td>\n",
       "      <td>0</td>\n",
       "      <td>40</td>\n",
       "      <td>United-States</td>\n",
       "      <td>&lt;=50K</td>\n",
       "    </tr>\n",
       "    <tr>\n",
       "      <th>4</th>\n",
       "      <td>28</td>\n",
       "      <td>Private</td>\n",
       "      <td>338409</td>\n",
       "      <td>Bachelors</td>\n",
       "      <td>13</td>\n",
       "      <td>Married-civ-spouse</td>\n",
       "      <td>Prof-specialty</td>\n",
       "      <td>Wife</td>\n",
       "      <td>Black</td>\n",
       "      <td>Female</td>\n",
       "      <td>0</td>\n",
       "      <td>0</td>\n",
       "      <td>40</td>\n",
       "      <td>Cuba</td>\n",
       "      <td>&lt;=50K</td>\n",
       "    </tr>\n",
       "  </tbody>\n",
       "</table>\n",
       "</div>"
      ],
      "text/plain": [
       "   age          workclass  fnlwgt   education  education-num  \\\n",
       "0   39          State-gov   77516   Bachelors             13   \n",
       "1   50   Self-emp-not-inc   83311   Bachelors             13   \n",
       "2   38            Private  215646     HS-grad              9   \n",
       "3   53            Private  234721        11th              7   \n",
       "4   28            Private  338409   Bachelors             13   \n",
       "\n",
       "        marital-status          occupation    relationship    race      sex  \\\n",
       "0        Never-married        Adm-clerical   Not-in-family   White     Male   \n",
       "1   Married-civ-spouse     Exec-managerial         Husband   White     Male   \n",
       "2             Divorced   Handlers-cleaners   Not-in-family   White     Male   \n",
       "3   Married-civ-spouse   Handlers-cleaners         Husband   Black     Male   \n",
       "4   Married-civ-spouse      Prof-specialty            Wife   Black   Female   \n",
       "\n",
       "   capital-gain  capital-loss  hours-per-week  native-country  income  \n",
       "0          2174             0              40   United-States   <=50K  \n",
       "1             0             0              13   United-States   <=50K  \n",
       "2             0             0              40   United-States   <=50K  \n",
       "3             0             0              40   United-States   <=50K  \n",
       "4             0             0              40            Cuba   <=50K  "
      ]
     },
     "execution_count": 82,
     "metadata": {},
     "output_type": "execute_result"
    }
   ],
   "source": [
    "data.head()"
   ]
  },
  {
   "cell_type": "code",
   "execution_count": 83,
   "id": "4f2d6e14",
   "metadata": {},
   "outputs": [
    {
     "data": {
      "text/html": [
       "<div>\n",
       "<style scoped>\n",
       "    .dataframe tbody tr th:only-of-type {\n",
       "        vertical-align: middle;\n",
       "    }\n",
       "\n",
       "    .dataframe tbody tr th {\n",
       "        vertical-align: top;\n",
       "    }\n",
       "\n",
       "    .dataframe thead th {\n",
       "        text-align: right;\n",
       "    }\n",
       "</style>\n",
       "<table border=\"1\" class=\"dataframe\">\n",
       "  <thead>\n",
       "    <tr style=\"text-align: right;\">\n",
       "      <th></th>\n",
       "      <th>age</th>\n",
       "      <th>workclass</th>\n",
       "      <th>fnlwgt</th>\n",
       "      <th>education</th>\n",
       "      <th>education-num</th>\n",
       "      <th>marital-status</th>\n",
       "      <th>occupation</th>\n",
       "      <th>relationship</th>\n",
       "      <th>race</th>\n",
       "      <th>sex</th>\n",
       "      <th>capital-gain</th>\n",
       "      <th>capital-loss</th>\n",
       "      <th>hours-per-week</th>\n",
       "      <th>native-country</th>\n",
       "      <th>income</th>\n",
       "    </tr>\n",
       "  </thead>\n",
       "  <tbody>\n",
       "    <tr>\n",
       "      <th>11116</th>\n",
       "      <td>52</td>\n",
       "      <td>Self-emp-inc</td>\n",
       "      <td>254211</td>\n",
       "      <td>Masters</td>\n",
       "      <td>14</td>\n",
       "      <td>Married-civ-spouse</td>\n",
       "      <td>Prof-specialty</td>\n",
       "      <td>Husband</td>\n",
       "      <td>White</td>\n",
       "      <td>Male</td>\n",
       "      <td>15024</td>\n",
       "      <td>0</td>\n",
       "      <td>60</td>\n",
       "      <td>United-States</td>\n",
       "      <td>&gt;50K</td>\n",
       "    </tr>\n",
       "    <tr>\n",
       "      <th>4934</th>\n",
       "      <td>25</td>\n",
       "      <td>Private</td>\n",
       "      <td>297154</td>\n",
       "      <td>HS-grad</td>\n",
       "      <td>9</td>\n",
       "      <td>Married-civ-spouse</td>\n",
       "      <td>Handlers-cleaners</td>\n",
       "      <td>Husband</td>\n",
       "      <td>White</td>\n",
       "      <td>Male</td>\n",
       "      <td>2407</td>\n",
       "      <td>0</td>\n",
       "      <td>40</td>\n",
       "      <td>United-States</td>\n",
       "      <td>&lt;=50K</td>\n",
       "    </tr>\n",
       "    <tr>\n",
       "      <th>5268</th>\n",
       "      <td>22</td>\n",
       "      <td>State-gov</td>\n",
       "      <td>186569</td>\n",
       "      <td>Bachelors</td>\n",
       "      <td>13</td>\n",
       "      <td>Never-married</td>\n",
       "      <td>Prof-specialty</td>\n",
       "      <td>Own-child</td>\n",
       "      <td>White</td>\n",
       "      <td>Female</td>\n",
       "      <td>0</td>\n",
       "      <td>0</td>\n",
       "      <td>12</td>\n",
       "      <td>United-States</td>\n",
       "      <td>&lt;=50K</td>\n",
       "    </tr>\n",
       "    <tr>\n",
       "      <th>21093</th>\n",
       "      <td>36</td>\n",
       "      <td>Local-gov</td>\n",
       "      <td>197495</td>\n",
       "      <td>Bachelors</td>\n",
       "      <td>13</td>\n",
       "      <td>Divorced</td>\n",
       "      <td>Prof-specialty</td>\n",
       "      <td>Unmarried</td>\n",
       "      <td>Black</td>\n",
       "      <td>Female</td>\n",
       "      <td>0</td>\n",
       "      <td>0</td>\n",
       "      <td>40</td>\n",
       "      <td>United-States</td>\n",
       "      <td>&lt;=50K</td>\n",
       "    </tr>\n",
       "    <tr>\n",
       "      <th>24919</th>\n",
       "      <td>39</td>\n",
       "      <td>Private</td>\n",
       "      <td>333305</td>\n",
       "      <td>Some-college</td>\n",
       "      <td>10</td>\n",
       "      <td>Married-civ-spouse</td>\n",
       "      <td>Sales</td>\n",
       "      <td>Wife</td>\n",
       "      <td>White</td>\n",
       "      <td>Female</td>\n",
       "      <td>0</td>\n",
       "      <td>0</td>\n",
       "      <td>45</td>\n",
       "      <td>United-States</td>\n",
       "      <td>&gt;50K</td>\n",
       "    </tr>\n",
       "    <tr>\n",
       "      <th>18653</th>\n",
       "      <td>35</td>\n",
       "      <td>Private</td>\n",
       "      <td>240389</td>\n",
       "      <td>Some-college</td>\n",
       "      <td>10</td>\n",
       "      <td>Married-civ-spouse</td>\n",
       "      <td>Sales</td>\n",
       "      <td>Husband</td>\n",
       "      <td>White</td>\n",
       "      <td>Male</td>\n",
       "      <td>0</td>\n",
       "      <td>0</td>\n",
       "      <td>43</td>\n",
       "      <td>United-States</td>\n",
       "      <td>&gt;50K</td>\n",
       "    </tr>\n",
       "  </tbody>\n",
       "</table>\n",
       "</div>"
      ],
      "text/plain": [
       "       age      workclass  fnlwgt      education  education-num  \\\n",
       "11116   52   Self-emp-inc  254211        Masters             14   \n",
       "4934    25        Private  297154        HS-grad              9   \n",
       "5268    22      State-gov  186569      Bachelors             13   \n",
       "21093   36      Local-gov  197495      Bachelors             13   \n",
       "24919   39        Private  333305   Some-college             10   \n",
       "18653   35        Private  240389   Some-college             10   \n",
       "\n",
       "            marital-status          occupation relationship    race      sex  \\\n",
       "11116   Married-civ-spouse      Prof-specialty      Husband   White     Male   \n",
       "4934    Married-civ-spouse   Handlers-cleaners      Husband   White     Male   \n",
       "5268         Never-married      Prof-specialty    Own-child   White   Female   \n",
       "21093             Divorced      Prof-specialty    Unmarried   Black   Female   \n",
       "24919   Married-civ-spouse               Sales         Wife   White   Female   \n",
       "18653   Married-civ-spouse               Sales      Husband   White     Male   \n",
       "\n",
       "       capital-gain  capital-loss  hours-per-week  native-country  income  \n",
       "11116         15024             0              60   United-States    >50K  \n",
       "4934           2407             0              40   United-States   <=50K  \n",
       "5268              0             0              12   United-States   <=50K  \n",
       "21093             0             0              40   United-States   <=50K  \n",
       "24919             0             0              45   United-States    >50K  \n",
       "18653             0             0              43   United-States    >50K  "
      ]
     },
     "execution_count": 83,
     "metadata": {},
     "output_type": "execute_result"
    }
   ],
   "source": [
    "data.sample(6)"
   ]
  },
  {
   "cell_type": "code",
   "execution_count": 84,
   "id": "1f45daad",
   "metadata": {},
   "outputs": [
    {
     "data": {
      "text/plain": [
       "Index(['age', 'workclass', 'fnlwgt', 'education', 'education-num',\n",
       "       'marital-status', 'occupation', 'relationship', 'race', 'sex',\n",
       "       'capital-gain', 'capital-loss', 'hours-per-week', 'native-country',\n",
       "       'income'],\n",
       "      dtype='object')"
      ]
     },
     "execution_count": 84,
     "metadata": {},
     "output_type": "execute_result"
    }
   ],
   "source": [
    "data.columns"
   ]
  },
  {
   "cell_type": "code",
   "execution_count": 85,
   "id": "18c39999",
   "metadata": {},
   "outputs": [
    {
     "data": {
      "text/plain": [
       "age                int64\n",
       "workclass         object\n",
       "fnlwgt             int64\n",
       "education         object\n",
       "education-num      int64\n",
       "marital-status    object\n",
       "occupation        object\n",
       "relationship      object\n",
       "race              object\n",
       "sex               object\n",
       "capital-gain       int64\n",
       "capital-loss       int64\n",
       "hours-per-week     int64\n",
       "native-country    object\n",
       "income            object\n",
       "dtype: object"
      ]
     },
     "execution_count": 85,
     "metadata": {},
     "output_type": "execute_result"
    }
   ],
   "source": [
    "data.dtypes"
   ]
  },
  {
   "cell_type": "code",
   "execution_count": 86,
   "id": "94c5bc42",
   "metadata": {},
   "outputs": [
    {
     "data": {
      "text/plain": [
       "workclass          9\n",
       "education         16\n",
       "marital-status     7\n",
       "occupation        15\n",
       "relationship       6\n",
       "race               5\n",
       "sex                2\n",
       "native-country    42\n",
       "income             2\n",
       "dtype: int64"
      ]
     },
     "execution_count": 86,
     "metadata": {},
     "output_type": "execute_result"
    }
   ],
   "source": [
    "data.select_dtypes(include = 'object').nunique()"
   ]
  },
  {
   "cell_type": "code",
   "execution_count": 87,
   "id": "437bf102",
   "metadata": {},
   "outputs": [
    {
     "data": {
      "text/plain": [
       "(32561, 15)"
      ]
     },
     "execution_count": 87,
     "metadata": {},
     "output_type": "execute_result"
    }
   ],
   "source": [
    "data.shape"
   ]
  },
  {
   "cell_type": "code",
   "execution_count": 88,
   "id": "9d1a563d",
   "metadata": {},
   "outputs": [
    {
     "data": {
      "text/html": [
       "<div>\n",
       "<style scoped>\n",
       "    .dataframe tbody tr th:only-of-type {\n",
       "        vertical-align: middle;\n",
       "    }\n",
       "\n",
       "    .dataframe tbody tr th {\n",
       "        vertical-align: top;\n",
       "    }\n",
       "\n",
       "    .dataframe thead th {\n",
       "        text-align: right;\n",
       "    }\n",
       "</style>\n",
       "<table border=\"1\" class=\"dataframe\">\n",
       "  <thead>\n",
       "    <tr style=\"text-align: right;\">\n",
       "      <th></th>\n",
       "      <th>age</th>\n",
       "      <th>fnlwgt</th>\n",
       "      <th>education-num</th>\n",
       "      <th>capital-gain</th>\n",
       "      <th>capital-loss</th>\n",
       "      <th>hours-per-week</th>\n",
       "    </tr>\n",
       "  </thead>\n",
       "  <tbody>\n",
       "    <tr>\n",
       "      <th>count</th>\n",
       "      <td>32561.000000</td>\n",
       "      <td>3.256100e+04</td>\n",
       "      <td>32561.000000</td>\n",
       "      <td>32561.000000</td>\n",
       "      <td>32561.000000</td>\n",
       "      <td>32561.000000</td>\n",
       "    </tr>\n",
       "    <tr>\n",
       "      <th>mean</th>\n",
       "      <td>38.581647</td>\n",
       "      <td>1.897784e+05</td>\n",
       "      <td>10.080679</td>\n",
       "      <td>1077.648844</td>\n",
       "      <td>87.303830</td>\n",
       "      <td>40.437456</td>\n",
       "    </tr>\n",
       "    <tr>\n",
       "      <th>std</th>\n",
       "      <td>13.640433</td>\n",
       "      <td>1.055500e+05</td>\n",
       "      <td>2.572720</td>\n",
       "      <td>7385.292085</td>\n",
       "      <td>402.960219</td>\n",
       "      <td>12.347429</td>\n",
       "    </tr>\n",
       "    <tr>\n",
       "      <th>min</th>\n",
       "      <td>17.000000</td>\n",
       "      <td>1.228500e+04</td>\n",
       "      <td>1.000000</td>\n",
       "      <td>0.000000</td>\n",
       "      <td>0.000000</td>\n",
       "      <td>1.000000</td>\n",
       "    </tr>\n",
       "    <tr>\n",
       "      <th>25%</th>\n",
       "      <td>28.000000</td>\n",
       "      <td>1.178270e+05</td>\n",
       "      <td>9.000000</td>\n",
       "      <td>0.000000</td>\n",
       "      <td>0.000000</td>\n",
       "      <td>40.000000</td>\n",
       "    </tr>\n",
       "    <tr>\n",
       "      <th>50%</th>\n",
       "      <td>37.000000</td>\n",
       "      <td>1.783560e+05</td>\n",
       "      <td>10.000000</td>\n",
       "      <td>0.000000</td>\n",
       "      <td>0.000000</td>\n",
       "      <td>40.000000</td>\n",
       "    </tr>\n",
       "    <tr>\n",
       "      <th>75%</th>\n",
       "      <td>48.000000</td>\n",
       "      <td>2.370510e+05</td>\n",
       "      <td>12.000000</td>\n",
       "      <td>0.000000</td>\n",
       "      <td>0.000000</td>\n",
       "      <td>45.000000</td>\n",
       "    </tr>\n",
       "    <tr>\n",
       "      <th>max</th>\n",
       "      <td>90.000000</td>\n",
       "      <td>1.484705e+06</td>\n",
       "      <td>16.000000</td>\n",
       "      <td>99999.000000</td>\n",
       "      <td>4356.000000</td>\n",
       "      <td>99.000000</td>\n",
       "    </tr>\n",
       "  </tbody>\n",
       "</table>\n",
       "</div>"
      ],
      "text/plain": [
       "                age        fnlwgt  education-num  capital-gain  capital-loss  \\\n",
       "count  32561.000000  3.256100e+04   32561.000000  32561.000000  32561.000000   \n",
       "mean      38.581647  1.897784e+05      10.080679   1077.648844     87.303830   \n",
       "std       13.640433  1.055500e+05       2.572720   7385.292085    402.960219   \n",
       "min       17.000000  1.228500e+04       1.000000      0.000000      0.000000   \n",
       "25%       28.000000  1.178270e+05       9.000000      0.000000      0.000000   \n",
       "50%       37.000000  1.783560e+05      10.000000      0.000000      0.000000   \n",
       "75%       48.000000  2.370510e+05      12.000000      0.000000      0.000000   \n",
       "max       90.000000  1.484705e+06      16.000000  99999.000000   4356.000000   \n",
       "\n",
       "       hours-per-week  \n",
       "count    32561.000000  \n",
       "mean        40.437456  \n",
       "std         12.347429  \n",
       "min          1.000000  \n",
       "25%         40.000000  \n",
       "50%         40.000000  \n",
       "75%         45.000000  \n",
       "max         99.000000  "
      ]
     },
     "execution_count": 88,
     "metadata": {},
     "output_type": "execute_result"
    }
   ],
   "source": [
    "data.describe()"
   ]
  },
  {
   "cell_type": "markdown",
   "id": "60bb3ba8",
   "metadata": {},
   "source": [
    "Выборка несбалансированная"
   ]
  },
  {
   "cell_type": "code",
   "execution_count": 89,
   "id": "0d6f204d",
   "metadata": {},
   "outputs": [
    {
     "data": {
      "text/plain": [
       " <=50K    24720\n",
       " >50K      7841\n",
       "Name: income, dtype: int64"
      ]
     },
     "execution_count": 89,
     "metadata": {},
     "output_type": "execute_result"
    }
   ],
   "source": [
    "data['income'].value_counts()"
   ]
  },
  {
   "cell_type": "markdown",
   "id": "04dd100c",
   "metadata": {},
   "source": [
    "### Пропущенные значения"
   ]
  },
  {
   "cell_type": "markdown",
   "id": "f7a739d3",
   "metadata": {},
   "source": [
    "На первый взгляд пропущенных значений нет."
   ]
  },
  {
   "cell_type": "code",
   "execution_count": 90,
   "id": "b7bfc174",
   "metadata": {},
   "outputs": [
    {
     "data": {
      "text/plain": [
       "age               0\n",
       "workclass         0\n",
       "fnlwgt            0\n",
       "education         0\n",
       "education-num     0\n",
       "marital-status    0\n",
       "occupation        0\n",
       "relationship      0\n",
       "race              0\n",
       "sex               0\n",
       "capital-gain      0\n",
       "capital-loss      0\n",
       "hours-per-week    0\n",
       "native-country    0\n",
       "income            0\n",
       "dtype: int64"
      ]
     },
     "execution_count": 90,
     "metadata": {},
     "output_type": "execute_result"
    }
   ],
   "source": [
    "data.isnull().sum()"
   ]
  },
  {
   "cell_type": "markdown",
   "id": "b259b201",
   "metadata": {},
   "source": [
    "Посмотрим на уникальные значение в категориальных признаках"
   ]
  },
  {
   "cell_type": "code",
   "execution_count": 91,
   "id": "f6f3b73b",
   "metadata": {},
   "outputs": [
    {
     "name": "stdout",
     "output_type": "stream",
     "text": [
      "WORKCLASS : \n",
      "[' State-gov' ' Self-emp-not-inc' ' Private' ' Federal-gov' ' Local-gov'\n",
      " ' ?' ' Self-emp-inc' ' Without-pay' ' Never-worked']\n",
      "EDUCATION : \n",
      "[' Bachelors' ' HS-grad' ' 11th' ' Masters' ' 9th' ' Some-college'\n",
      " ' Assoc-acdm' ' Assoc-voc' ' 7th-8th' ' Doctorate' ' Prof-school'\n",
      " ' 5th-6th' ' 10th' ' 1st-4th' ' Preschool' ' 12th']\n",
      "MARITAL-STATUS : \n",
      "[' Never-married' ' Married-civ-spouse' ' Divorced'\n",
      " ' Married-spouse-absent' ' Separated' ' Married-AF-spouse' ' Widowed']\n",
      "OCCUPATION : \n",
      "[' Adm-clerical' ' Exec-managerial' ' Handlers-cleaners' ' Prof-specialty'\n",
      " ' Other-service' ' Sales' ' Craft-repair' ' Transport-moving'\n",
      " ' Farming-fishing' ' Machine-op-inspct' ' Tech-support' ' ?'\n",
      " ' Protective-serv' ' Armed-Forces' ' Priv-house-serv']\n",
      "RELATIONSHIP : \n",
      "[' Not-in-family' ' Husband' ' Wife' ' Own-child' ' Unmarried'\n",
      " ' Other-relative']\n",
      "RACE : \n",
      "[' White' ' Black' ' Asian-Pac-Islander' ' Amer-Indian-Eskimo' ' Other']\n",
      "SEX : \n",
      "[' Male' ' Female']\n",
      "NATIVE-COUNTRY : \n",
      "[' United-States' ' Cuba' ' Jamaica' ' India' ' ?' ' Mexico' ' South'\n",
      " ' Puerto-Rico' ' Honduras' ' England' ' Canada' ' Germany' ' Iran'\n",
      " ' Philippines' ' Italy' ' Poland' ' Columbia' ' Cambodia' ' Thailand'\n",
      " ' Ecuador' ' Laos' ' Taiwan' ' Haiti' ' Portugal' ' Dominican-Republic'\n",
      " ' El-Salvador' ' France' ' Guatemala' ' China' ' Japan' ' Yugoslavia'\n",
      " ' Peru' ' Outlying-US(Guam-USVI-etc)' ' Scotland' ' Trinadad&Tobago'\n",
      " ' Greece' ' Nicaragua' ' Vietnam' ' Hong' ' Ireland' ' Hungary'\n",
      " ' Holand-Netherlands']\n",
      "INCOME : \n",
      "[' <=50K' ' >50K']\n"
     ]
    }
   ],
   "source": [
    "for i in data.select_dtypes(include = 'object').columns:\n",
    "    print(i.upper(), \": \")\n",
    "    print(data[i].unique())"
   ]
  },
  {
   "cell_type": "markdown",
   "id": "a647bb19",
   "metadata": {},
   "source": [
    "Заметим, что в признаках workclass, occupation, native-country есть пропущенные значения обозначенные как \" ?\". Посмотрим сколько их всего в выборке"
   ]
  },
  {
   "cell_type": "code",
   "execution_count": 92,
   "id": "1fd483ba",
   "metadata": {},
   "outputs": [
    {
     "data": {
      "text/plain": [
       " Private             22696\n",
       " Self-emp-not-inc     2541\n",
       " Local-gov            2093\n",
       " ?                    1836\n",
       " State-gov            1298\n",
       " Self-emp-inc         1116\n",
       " Federal-gov           960\n",
       " Without-pay            14\n",
       " Never-worked            7\n",
       "Name: workclass, dtype: int64"
      ]
     },
     "execution_count": 92,
     "metadata": {},
     "output_type": "execute_result"
    }
   ],
   "source": [
    "data['workclass'].value_counts()"
   ]
  },
  {
   "cell_type": "code",
   "execution_count": 93,
   "id": "db7af2e9",
   "metadata": {},
   "outputs": [
    {
     "data": {
      "text/plain": [
       " Prof-specialty       4140\n",
       " Craft-repair         4099\n",
       " Exec-managerial      4066\n",
       " Adm-clerical         3770\n",
       " Sales                3650\n",
       " Other-service        3295\n",
       " Machine-op-inspct    2002\n",
       " ?                    1843\n",
       " Transport-moving     1597\n",
       " Handlers-cleaners    1370\n",
       " Farming-fishing       994\n",
       " Tech-support          928\n",
       " Protective-serv       649\n",
       " Priv-house-serv       149\n",
       " Armed-Forces            9\n",
       "Name: occupation, dtype: int64"
      ]
     },
     "execution_count": 93,
     "metadata": {},
     "output_type": "execute_result"
    }
   ],
   "source": [
    "data['occupation'].value_counts()"
   ]
  },
  {
   "cell_type": "code",
   "execution_count": 94,
   "id": "71a9a20e",
   "metadata": {},
   "outputs": [
    {
     "data": {
      "text/plain": [
       " United-States                 29170\n",
       " Mexico                          643\n",
       " ?                               583\n",
       " Philippines                     198\n",
       " Germany                         137\n",
       " Canada                          121\n",
       " Puerto-Rico                     114\n",
       " El-Salvador                     106\n",
       " India                           100\n",
       " Cuba                             95\n",
       " England                          90\n",
       " Jamaica                          81\n",
       " South                            80\n",
       " China                            75\n",
       " Italy                            73\n",
       " Dominican-Republic               70\n",
       " Vietnam                          67\n",
       " Guatemala                        64\n",
       " Japan                            62\n",
       " Poland                           60\n",
       " Columbia                         59\n",
       " Taiwan                           51\n",
       " Haiti                            44\n",
       " Iran                             43\n",
       " Portugal                         37\n",
       " Nicaragua                        34\n",
       " Peru                             31\n",
       " France                           29\n",
       " Greece                           29\n",
       " Ecuador                          28\n",
       " Ireland                          24\n",
       " Hong                             20\n",
       " Cambodia                         19\n",
       " Trinadad&Tobago                  19\n",
       " Laos                             18\n",
       " Thailand                         18\n",
       " Yugoslavia                       16\n",
       " Outlying-US(Guam-USVI-etc)       14\n",
       " Honduras                         13\n",
       " Hungary                          13\n",
       " Scotland                         12\n",
       " Holand-Netherlands                1\n",
       "Name: native-country, dtype: int64"
      ]
     },
     "execution_count": 94,
     "metadata": {},
     "output_type": "execute_result"
    }
   ],
   "source": [
    "data['native-country'].value_counts()"
   ]
  },
  {
   "cell_type": "markdown",
   "id": "84665d7d",
   "metadata": {},
   "source": [
    "Пропущенных значений слишком много, чтобы выбрасывать их из выборки"
   ]
  },
  {
   "cell_type": "markdown",
   "id": "e2dedcf1",
   "metadata": {},
   "source": [
    "### Поиск закономерностей"
   ]
  },
  {
   "cell_type": "code",
   "execution_count": 95,
   "id": "7983285f",
   "metadata": {},
   "outputs": [
    {
     "data": {
      "image/png": "[encoded data removed]",
      "text/plain": [
       "<Figure size 1080x576 with 2 Axes>"
      ]
     },
     "metadata": {},
     "output_type": "display_data"
    }
   ],
   "source": [
    "sns.set_style(\"darkgrid\")\n",
    "fig, axes = plt.subplots(1,2, figsize = (15,8))\n",
    "for i, col in enumerate(['race', 'sex']):\n",
    "    sns.countplot(ax = axes[i], x = 'income', data = data, hue = col, palette = 'husl')"
   ]
  },
  {
   "cell_type": "code",
   "execution_count": 96,
   "id": "521687fd",
   "metadata": {},
   "outputs": [
    {
     "data": {
      "text/plain": [
       "<AxesSubplot:xlabel='income', ylabel='count'>"
      ]
     },
     "execution_count": 96,
     "metadata": {},
     "output_type": "execute_result"
    },
    {
     "data": {
      "image/png": "[encoded data removed]",
      "text/plain": [
       "<Figure size 864x864 with 2 Axes>"
      ]
     },
     "metadata": {},
     "output_type": "display_data"
    }
   ],
   "source": [
    "fig, axes = plt.subplots(2,1, figsize = (12,12))\n",
    "sns.countplot(ax = axes[0], x = 'income', data = data, hue = 'workclass', palette = 'husl')\n",
    "sns.countplot(ax = axes[1], x = 'income', data = data, hue = 'occupation', palette = 'husl')"
   ]
  },
  {
   "cell_type": "code",
   "execution_count": 97,
   "id": "06580638",
   "metadata": {},
   "outputs": [
    {
     "data": {
      "text/plain": [
       "<AxesSubplot:xlabel='income', ylabel='count'>"
      ]
     },
     "execution_count": 97,
     "metadata": {},
     "output_type": "execute_result"
    },
    {
     "data": {
      "image/png": "[encoded data removed]",
      "text/plain": [
       "<Figure size 1080x1440 with 1 Axes>"
      ]
     },
     "metadata": {},
     "output_type": "display_data"
    }
   ],
   "source": [
    "plt.figure(figsize = (15,20))\n",
    "df = data.drop(data[data['native-country'] == ' United-States'].index)\n",
    "sns.countplot(x = 'income', data = df, hue = 'native-country')"
   ]
  },
  {
   "cell_type": "markdown",
   "id": "80905ae6",
   "metadata": {},
   "source": [
    "### Замена пропущенных данных"
   ]
  },
  {
   "cell_type": "markdown",
   "id": "a3004ea7",
   "metadata": {},
   "source": [
    "Поробуем заменить неизвестные категории наиболее популярной категорией в признаке."
   ]
  },
  {
   "cell_type": "code",
   "execution_count": 98,
   "id": "5910247f",
   "metadata": {},
   "outputs": [],
   "source": [
    "data['workclass'] = data['workclass'].replace(\" ?\", ' Private')\n",
    "data['occupation'] = data['occupation'].replace(\" ?\", ' Prof-specialty')\n",
    "data['native-country'] = data['native-country'].replace(\" ?\", ' United-States')"
   ]
  },
  {
   "cell_type": "markdown",
   "id": "f8d782be",
   "metadata": {},
   "source": [
    "### Работа с признаками"
   ]
  },
  {
   "cell_type": "markdown",
   "id": "66496d44",
   "metadata": {},
   "source": [
    "Объединение категорий похожих по смыслу в одну"
   ]
  },
  {
   "cell_type": "code",
   "execution_count": 99,
   "id": "0c5664a3",
   "metadata": {},
   "outputs": [],
   "source": [
    "data['marital-status']= data['marital-status'].replace([' Married-civ-spouse', ' Married-AF-spouse'], 'Married')\n",
    "data['marital-status']= data['marital-status'].replace([' Divorced', ' Separated',' Widowed', ' Married-spouse-absent'], 'Single')"
   ]
  },
  {
   "cell_type": "code",
   "execution_count": 100,
   "id": "3b849146",
   "metadata": {},
   "outputs": [],
   "source": [
    "data['education']= data['education'].replace([' Preschool', ' 1st-4th', ' 5th-6th', ' 7th-8th', ' 9th',' 10th', ' 11th', ' 12th'], 'school')\n",
    "data['education'] = data['education'].replace([' Assoc-voc', ' Assoc-acdm', ' Prof-school', ' Some-college'], 'Higher_eduction')"
   ]
  },
  {
   "cell_type": "markdown",
   "id": "336005f5",
   "metadata": {},
   "source": [
    "Целевая переменная"
   ]
  },
  {
   "cell_type": "code",
   "execution_count": 101,
   "id": "efe18a09",
   "metadata": {},
   "outputs": [],
   "source": [
    "data['income'] = data['income'].map({' <=50K': 0, ' >50K': 1})"
   ]
  },
  {
   "cell_type": "markdown",
   "id": "c4a138fb",
   "metadata": {},
   "source": [
    "### RandomForest"
   ]
  },
  {
   "cell_type": "code",
   "execution_count": 127,
   "id": "2b085e31",
   "metadata": {},
   "outputs": [],
   "source": [
    "from sklearn.model_selection import train_test_split\n",
    "from sklearn.ensemble import RandomForestClassifier\n",
    "from sklearn.pipeline import Pipeline, make_pipeline\n",
    "from sklearn.compose import ColumnTransformer, make_column_transformer\n",
    "from sklearn.preprocessing import OneHotEncoder, StandardScaler"
   ]
  },
  {
   "cell_type": "code",
   "execution_count": 128,
   "id": "15249395",
   "metadata": {},
   "outputs": [],
   "source": [
    "y = data['income']\n",
    "X = data.drop(columns = ['income'])"
   ]
  },
  {
   "cell_type": "code",
   "execution_count": 129,
   "id": "eb653777",
   "metadata": {},
   "outputs": [],
   "source": [
    "categorical = X.select_dtypes(include = 'object').columns\n",
    "numeric = X.select_dtypes(include = 'int64').columns"
   ]
  },
  {
   "cell_type": "code",
   "execution_count": 139,
   "id": "79346c4a",
   "metadata": {},
   "outputs": [],
   "source": [
    "x_train, x_test, y_train, y_test = train_test_split(X, y, train_size = 0.75, random_state = 777)\n",
    "ct = ColumnTransformer([('ohe', OneHotEncoder(), categorical)], remainder = 'passthrough')\n",
    "pipe = Pipeline([('ct', ct),('model', RandomForestClassifier())])"
   ]
  },
  {
   "cell_type": "code",
   "execution_count": 140,
   "id": "2abe4b36",
   "metadata": {},
   "outputs": [
    {
     "name": "stdout",
     "output_type": "stream",
     "text": [
      "Wall time: 13.1 s\n"
     ]
    },
    {
     "data": {
      "text/plain": [
       "Pipeline(steps=[('ct',\n",
       "                 ColumnTransformer(remainder='passthrough',\n",
       "                                   transformers=[('ohe', OneHotEncoder(),\n",
       "                                                  Index(['workclass', 'education', 'marital-status', 'occupation',\n",
       "       'relationship', 'race', 'sex', 'native-country'],\n",
       "      dtype='object'))])),\n",
       "                ('model', RandomForestClassifier())])"
      ]
     },
     "execution_count": 140,
     "metadata": {},
     "output_type": "execute_result"
    }
   ],
   "source": [
    "%%time\n",
    "pipe.fit(x_train, y_train)"
   ]
  },
  {
   "cell_type": "code",
   "execution_count": 141,
   "id": "b190b423",
   "metadata": {},
   "outputs": [],
   "source": [
    "y_pred = pipe.predict(x_test)"
   ]
  },
  {
   "cell_type": "code",
   "execution_count": 142,
   "id": "18fea385",
   "metadata": {},
   "outputs": [],
   "source": [
    "from sklearn.metrics import plot_confusion_matrix, confusion_matrix, classification_report"
   ]
  },
  {
   "cell_type": "code",
   "execution_count": 143,
   "id": "5646ac1e",
   "metadata": {},
   "outputs": [
    {
     "data": {
      "text/plain": [
       "<sklearn.metrics._plot.confusion_matrix.ConfusionMatrixDisplay at 0x142635bd278>"
      ]
     },
     "execution_count": 143,
     "metadata": {},
     "output_type": "execute_result"
    },
    {
     "data": {
      "image/png": "[encoded data removed]",
      "text/plain": [
       "<Figure size 432x288 with 2 Axes>"
      ]
     },
     "metadata": {},
     "output_type": "display_data"
    }
   ],
   "source": [
    "sns.set_style(\"dark\")\n",
    "plot_confusion_matrix(pipe, x_test, y_test)"
   ]
  },
  {
   "cell_type": "code",
   "execution_count": 144,
   "id": "bc39e44d",
   "metadata": {},
   "outputs": [
    {
     "data": {
      "text/plain": [
       "array([[5695,  484],\n",
       "       [ 741, 1221]], dtype=int64)"
      ]
     },
     "execution_count": 144,
     "metadata": {},
     "output_type": "execute_result"
    }
   ],
   "source": [
    "confusion_matrix(y_test, y_pred)"
   ]
  },
  {
   "cell_type": "code",
   "execution_count": 145,
   "id": "bbe3b73a",
   "metadata": {},
   "outputs": [
    {
     "name": "stdout",
     "output_type": "stream",
     "text": [
      "              precision    recall  f1-score   support\n",
      "\n",
      "           0       0.88      0.92      0.90      6179\n",
      "           1       0.72      0.62      0.67      1962\n",
      "\n",
      "    accuracy                           0.85      8141\n",
      "   macro avg       0.80      0.77      0.78      8141\n",
      "weighted avg       0.84      0.85      0.85      8141\n",
      "\n"
     ]
    }
   ],
   "source": [
    "print(classification_report(y_test, y_pred))"
   ]
  },
  {
   "cell_type": "markdown",
   "id": "9a439f95",
   "metadata": {},
   "source": [
    "### XGBoost"
   ]
  },
  {
   "cell_type": "code",
   "execution_count": 148,
   "id": "329ca2c2",
   "metadata": {},
   "outputs": [],
   "source": [
    "import xgboost as xgb "
   ]
  },
  {
   "cell_type": "code",
   "execution_count": 149,
   "id": "bac81c05",
   "metadata": {},
   "outputs": [],
   "source": [
    "#default parameters\n",
    "params = {'n_estimators': 100,\n",
    "          'learning_rate': 0.1,\n",
    "          'max_depth': 3,\n",
    "          'min_child_weight': 1,\n",
    "          'subsample': 1,\n",
    "          'colsample_bytree': 1,\n",
    "          'n_jobs': 4}\n"
   ]
  },
  {
   "cell_type": "code",
   "execution_count": 159,
   "id": "b073948e",
   "metadata": {},
   "outputs": [],
   "source": [
    "model = xgb.XGBClassifier(**params)\n",
    "pipe = Pipeline([('ct', ct),('model', model)])"
   ]
  },
  {
   "cell_type": "code",
   "execution_count": 160,
   "id": "b76d2d60",
   "metadata": {},
   "outputs": [
    {
     "name": "stderr",
     "output_type": "stream",
     "text": [
      "C:\\Users\\Artem\\anaconda3\\envs\\For Data\\lib\\site-packages\\xgboost\\sklearn.py:888: UserWarning: The use of label encoder in XGBClassifier is deprecated and will be removed in a future release. To remove this warning, do the following: 1) Pass option use_label_encoder=False when constructing XGBClassifier object; and 2) Encode your labels (y) as integers starting with 0, i.e. 0, 1, 2, ..., [num_class - 1].\n",
      "  warnings.warn(label_encoder_deprecation_msg, UserWarning)\n"
     ]
    },
    {
     "name": "stdout",
     "output_type": "stream",
     "text": [
      "[20:59:38] WARNING: ..\\src\\learner.cc:1061: Starting in XGBoost 1.3.0, the default evaluation metric used with the objective 'binary:logistic' was changed from 'error' to 'logloss'. Explicitly set eval_metric if you'd like to restore the old behavior.\n"
     ]
    },
    {
     "data": {
      "text/plain": [
       "Pipeline(steps=[('ct',\n",
       "                 ColumnTransformer(remainder='passthrough',\n",
       "                                   transformers=[('ohe', OneHotEncoder(),\n",
       "                                                  Index(['workclass', 'education', 'marital-status', 'occupation',\n",
       "       'relationship', 'race', 'sex', 'native-country'],\n",
       "      dtype='object'))])),\n",
       "                ('model',\n",
       "                 XGBClassifier(base_score=0.5, booster='gbtree',\n",
       "                               colsample_bylevel=1, colsample_bynode=1,\n",
       "                               colsample_bytree=1, gamma=0, gpu_id=-1,\n",
       "                               importance_type='gain',\n",
       "                               interaction_constraints='', learning_rate=0.1,\n",
       "                               max_delta_step=0, max_depth=3,\n",
       "                               min_child_weight=1, missing=nan,\n",
       "                               monotone_constraints='()', n_estimators=100,\n",
       "                               n_jobs=4, num_parallel_tree=1, random_state=0,\n",
       "                               reg_alpha=0, reg_lambda=1, scale_pos_weight=1,\n",
       "                               subsample=1, tree_method='exact',\n",
       "                               validate_parameters=1, verbosity=None))])"
      ]
     },
     "execution_count": 160,
     "metadata": {},
     "output_type": "execute_result"
    }
   ],
   "source": [
    "pipe.fit(x_train, y_train)"
   ]
  },
  {
   "cell_type": "code",
   "execution_count": 161,
   "id": "dbd327b1",
   "metadata": {},
   "outputs": [],
   "source": [
    "y_pred = pipe.predict(x_test)"
   ]
  },
  {
   "cell_type": "code",
   "execution_count": 162,
   "id": "963c05ba",
   "metadata": {},
   "outputs": [
    {
     "name": "stdout",
     "output_type": "stream",
     "text": [
      "              precision    recall  f1-score   support\n",
      "\n",
      "           0       0.88      0.95      0.91      6179\n",
      "           1       0.80      0.59      0.68      1962\n",
      "\n",
      "    accuracy                           0.86      8141\n",
      "   macro avg       0.84      0.77      0.80      8141\n",
      "weighted avg       0.86      0.86      0.86      8141\n",
      "\n"
     ]
    }
   ],
   "source": [
    "print(classification_report(y_test, y_pred))"
   ]
  },
  {
   "cell_type": "markdown",
   "id": "bbd0c0dc",
   "metadata": {},
   "source": [
    "### Подбор параметров для XGBoost"
   ]
  },
  {
   "cell_type": "code",
   "execution_count": 173,
   "id": "7f1b1354",
   "metadata": {},
   "outputs": [],
   "source": [
    "y = data['income']\n",
    "X = data.drop(columns = ['income'])"
   ]
  },
  {
   "cell_type": "code",
   "execution_count": 174,
   "id": "545655ab",
   "metadata": {},
   "outputs": [],
   "source": [
    "X = pd.get_dummies(X, columns = categorical)"
   ]
  },
  {
   "cell_type": "code",
   "execution_count": 175,
   "id": "f88f1a4f",
   "metadata": {},
   "outputs": [
    {
     "data": {
      "text/plain": [
       "(32561, 91)"
      ]
     },
     "execution_count": 175,
     "metadata": {},
     "output_type": "execute_result"
    }
   ],
   "source": [
    "X.shape"
   ]
  },
  {
   "cell_type": "code",
   "execution_count": 176,
   "id": "2314e380",
   "metadata": {},
   "outputs": [],
   "source": [
    "x_train, x_test, y_train, y_test = train_test_split(X, y, train_size = 0.75, random_state = 777)"
   ]
  },
  {
   "cell_type": "code",
   "execution_count": 177,
   "id": "efbf4b45",
   "metadata": {},
   "outputs": [],
   "source": [
    "params = {'n_estimators': 100,\n",
    "          'learning_rate': 0.1,\n",
    "          'max_depth': 5,\n",
    "          'min_child_weight': 1,\n",
    "          'subsample': 0.8,\n",
    "          'colsample_bytree': 0.8,\n",
    "          'n_jobs': 4}"
   ]
  },
  {
   "cell_type": "code",
   "execution_count": 178,
   "id": "c0ef0fdf",
   "metadata": {},
   "outputs": [
    {
     "name": "stdout",
     "output_type": "stream",
     "text": [
      "[0]\tvalidation_0-auc:0.88563\tvalidation_1-auc:0.88326\n",
      "[1]\tvalidation_0-auc:0.89561\tvalidation_1-auc:0.89446\n",
      "[2]\tvalidation_0-auc:0.90009\tvalidation_1-auc:0.89796\n",
      "[3]\tvalidation_0-auc:0.90237\tvalidation_1-auc:0.90056\n",
      "[4]\tvalidation_0-auc:0.90458\tvalidation_1-auc:0.90248\n",
      "[5]\tvalidation_0-auc:0.90574\tvalidation_1-auc:0.90348\n"
     ]
    },
    {
     "name": "stderr",
     "output_type": "stream",
     "text": [
      "C:\\Users\\Artem\\anaconda3\\envs\\For Data\\lib\\site-packages\\xgboost\\sklearn.py:888: UserWarning: The use of label encoder in XGBClassifier is deprecated and will be removed in a future release. To remove this warning, do the following: 1) Pass option use_label_encoder=False when constructing XGBClassifier object; and 2) Encode your labels (y) as integers starting with 0, i.e. 0, 1, 2, ..., [num_class - 1].\n",
      "  warnings.warn(label_encoder_deprecation_msg, UserWarning)\n"
     ]
    },
    {
     "name": "stdout",
     "output_type": "stream",
     "text": [
      "[6]\tvalidation_0-auc:0.90713\tvalidation_1-auc:0.90470\n",
      "[7]\tvalidation_0-auc:0.90743\tvalidation_1-auc:0.90558\n",
      "[8]\tvalidation_0-auc:0.90885\tvalidation_1-auc:0.90667\n",
      "[9]\tvalidation_0-auc:0.90941\tvalidation_1-auc:0.90741\n",
      "[10]\tvalidation_0-auc:0.91014\tvalidation_1-auc:0.90812\n",
      "[11]\tvalidation_0-auc:0.91102\tvalidation_1-auc:0.90884\n",
      "[12]\tvalidation_0-auc:0.91179\tvalidation_1-auc:0.90945\n",
      "[13]\tvalidation_0-auc:0.91195\tvalidation_1-auc:0.90967\n",
      "[14]\tvalidation_0-auc:0.91229\tvalidation_1-auc:0.90980\n",
      "[15]\tvalidation_0-auc:0.91419\tvalidation_1-auc:0.91131\n",
      "[16]\tvalidation_0-auc:0.91473\tvalidation_1-auc:0.91137\n",
      "[17]\tvalidation_0-auc:0.91497\tvalidation_1-auc:0.91180\n",
      "[18]\tvalidation_0-auc:0.91535\tvalidation_1-auc:0.91197\n",
      "[19]\tvalidation_0-auc:0.91570\tvalidation_1-auc:0.91244\n",
      "[20]\tvalidation_0-auc:0.91636\tvalidation_1-auc:0.91277\n",
      "[21]\tvalidation_0-auc:0.91704\tvalidation_1-auc:0.91326\n",
      "[22]\tvalidation_0-auc:0.91756\tvalidation_1-auc:0.91357\n",
      "[23]\tvalidation_0-auc:0.91788\tvalidation_1-auc:0.91394\n",
      "[24]\tvalidation_0-auc:0.91848\tvalidation_1-auc:0.91427\n",
      "[25]\tvalidation_0-auc:0.91889\tvalidation_1-auc:0.91471\n",
      "[26]\tvalidation_0-auc:0.91928\tvalidation_1-auc:0.91509\n",
      "[27]\tvalidation_0-auc:0.91983\tvalidation_1-auc:0.91532\n",
      "[28]\tvalidation_0-auc:0.92023\tvalidation_1-auc:0.91584\n",
      "[29]\tvalidation_0-auc:0.92077\tvalidation_1-auc:0.91606\n",
      "[30]\tvalidation_0-auc:0.92139\tvalidation_1-auc:0.91679\n",
      "[31]\tvalidation_0-auc:0.92189\tvalidation_1-auc:0.91709\n",
      "[32]\tvalidation_0-auc:0.92223\tvalidation_1-auc:0.91736\n",
      "[33]\tvalidation_0-auc:0.92274\tvalidation_1-auc:0.91778\n",
      "[34]\tvalidation_0-auc:0.92304\tvalidation_1-auc:0.91791\n",
      "[35]\tvalidation_0-auc:0.92321\tvalidation_1-auc:0.91812\n",
      "[36]\tvalidation_0-auc:0.92355\tvalidation_1-auc:0.91849\n",
      "[37]\tvalidation_0-auc:0.92395\tvalidation_1-auc:0.91873\n",
      "[38]\tvalidation_0-auc:0.92431\tvalidation_1-auc:0.91879\n",
      "[39]\tvalidation_0-auc:0.92454\tvalidation_1-auc:0.91891\n",
      "[40]\tvalidation_0-auc:0.92485\tvalidation_1-auc:0.91895\n",
      "[41]\tvalidation_0-auc:0.92507\tvalidation_1-auc:0.91910\n",
      "[42]\tvalidation_0-auc:0.92564\tvalidation_1-auc:0.91950\n",
      "[43]\tvalidation_0-auc:0.92585\tvalidation_1-auc:0.91948\n",
      "[44]\tvalidation_0-auc:0.92620\tvalidation_1-auc:0.91972\n",
      "[45]\tvalidation_0-auc:0.92649\tvalidation_1-auc:0.91973\n",
      "[46]\tvalidation_0-auc:0.92681\tvalidation_1-auc:0.92017\n",
      "[47]\tvalidation_0-auc:0.92711\tvalidation_1-auc:0.92044\n",
      "[48]\tvalidation_0-auc:0.92741\tvalidation_1-auc:0.92058\n",
      "[49]\tvalidation_0-auc:0.92769\tvalidation_1-auc:0.92072\n",
      "[50]\tvalidation_0-auc:0.92799\tvalidation_1-auc:0.92089\n",
      "[51]\tvalidation_0-auc:0.92834\tvalidation_1-auc:0.92126\n",
      "[52]\tvalidation_0-auc:0.92856\tvalidation_1-auc:0.92139\n",
      "[53]\tvalidation_0-auc:0.92884\tvalidation_1-auc:0.92154\n",
      "[54]\tvalidation_0-auc:0.92917\tvalidation_1-auc:0.92164\n",
      "[55]\tvalidation_0-auc:0.92933\tvalidation_1-auc:0.92180\n",
      "[56]\tvalidation_0-auc:0.92959\tvalidation_1-auc:0.92196\n",
      "[57]\tvalidation_0-auc:0.92979\tvalidation_1-auc:0.92213\n",
      "[58]\tvalidation_0-auc:0.93027\tvalidation_1-auc:0.92261\n",
      "[59]\tvalidation_0-auc:0.93080\tvalidation_1-auc:0.92325\n",
      "[60]\tvalidation_0-auc:0.93120\tvalidation_1-auc:0.92327\n",
      "[61]\tvalidation_0-auc:0.93151\tvalidation_1-auc:0.92349\n",
      "[62]\tvalidation_0-auc:0.93170\tvalidation_1-auc:0.92355\n",
      "[63]\tvalidation_0-auc:0.93195\tvalidation_1-auc:0.92375\n",
      "[64]\tvalidation_0-auc:0.93212\tvalidation_1-auc:0.92379\n",
      "[65]\tvalidation_0-auc:0.93257\tvalidation_1-auc:0.92421\n",
      "[66]\tvalidation_0-auc:0.93273\tvalidation_1-auc:0.92431\n",
      "[67]\tvalidation_0-auc:0.93307\tvalidation_1-auc:0.92472\n",
      "[68]\tvalidation_0-auc:0.93322\tvalidation_1-auc:0.92493\n",
      "[69]\tvalidation_0-auc:0.93341\tvalidation_1-auc:0.92500\n",
      "[70]\tvalidation_0-auc:0.93364\tvalidation_1-auc:0.92506\n",
      "[71]\tvalidation_0-auc:0.93378\tvalidation_1-auc:0.92517\n",
      "[72]\tvalidation_0-auc:0.93412\tvalidation_1-auc:0.92525\n",
      "[73]\tvalidation_0-auc:0.93426\tvalidation_1-auc:0.92524\n",
      "[74]\tvalidation_0-auc:0.93440\tvalidation_1-auc:0.92528\n",
      "[75]\tvalidation_0-auc:0.93455\tvalidation_1-auc:0.92539\n",
      "[76]\tvalidation_0-auc:0.93473\tvalidation_1-auc:0.92564\n",
      "[77]\tvalidation_0-auc:0.93494\tvalidation_1-auc:0.92574\n",
      "[78]\tvalidation_0-auc:0.93507\tvalidation_1-auc:0.92582\n",
      "[79]\tvalidation_0-auc:0.93519\tvalidation_1-auc:0.92579\n",
      "[80]\tvalidation_0-auc:0.93541\tvalidation_1-auc:0.92586\n",
      "[81]\tvalidation_0-auc:0.93553\tvalidation_1-auc:0.92587\n",
      "[82]\tvalidation_0-auc:0.93580\tvalidation_1-auc:0.92621\n",
      "[83]\tvalidation_0-auc:0.93602\tvalidation_1-auc:0.92647\n",
      "[84]\tvalidation_0-auc:0.93610\tvalidation_1-auc:0.92646\n",
      "[85]\tvalidation_0-auc:0.93631\tvalidation_1-auc:0.92654\n",
      "[86]\tvalidation_0-auc:0.93646\tvalidation_1-auc:0.92671\n",
      "[87]\tvalidation_0-auc:0.93662\tvalidation_1-auc:0.92678\n",
      "[88]\tvalidation_0-auc:0.93673\tvalidation_1-auc:0.92681\n",
      "[89]\tvalidation_0-auc:0.93693\tvalidation_1-auc:0.92680\n",
      "[90]\tvalidation_0-auc:0.93707\tvalidation_1-auc:0.92681\n",
      "[91]\tvalidation_0-auc:0.93724\tvalidation_1-auc:0.92684\n",
      "[92]\tvalidation_0-auc:0.93737\tvalidation_1-auc:0.92691\n",
      "[93]\tvalidation_0-auc:0.93745\tvalidation_1-auc:0.92697\n",
      "[94]\tvalidation_0-auc:0.93749\tvalidation_1-auc:0.92698\n",
      "[95]\tvalidation_0-auc:0.93762\tvalidation_1-auc:0.92700\n",
      "[96]\tvalidation_0-auc:0.93772\tvalidation_1-auc:0.92703\n",
      "[97]\tvalidation_0-auc:0.93777\tvalidation_1-auc:0.92707\n",
      "[98]\tvalidation_0-auc:0.93781\tvalidation_1-auc:0.92709\n",
      "[99]\tvalidation_0-auc:0.93791\tvalidation_1-auc:0.92716\n"
     ]
    },
    {
     "data": {
      "text/plain": [
       "XGBClassifier(base_score=0.5, booster='gbtree', colsample_bylevel=1,\n",
       "              colsample_bynode=1, colsample_bytree=0.8, gamma=0, gpu_id=-1,\n",
       "              importance_type='gain', interaction_constraints='',\n",
       "              learning_rate=0.1, max_delta_step=0, max_depth=5,\n",
       "              min_child_weight=1, missing=nan, monotone_constraints='()',\n",
       "              n_estimators=100, n_jobs=4, num_parallel_tree=1, random_state=0,\n",
       "              reg_alpha=0, reg_lambda=1, scale_pos_weight=1, subsample=0.8,\n",
       "              tree_method='exact', validate_parameters=1, verbosity=None)"
      ]
     },
     "execution_count": 178,
     "metadata": {},
     "output_type": "execute_result"
    }
   ],
   "source": [
    "model = xgb.XGBClassifier(**params)\n",
    "model.fit(x_train, y_train, eval_metric='auc', eval_set=[[x_train, y_train], [x_test, y_test]])"
   ]
  },
  {
   "cell_type": "code",
   "execution_count": 179,
   "id": "0cd4d7f2",
   "metadata": {},
   "outputs": [],
   "source": [
    "y_pred = model.predict(x_test)"
   ]
  },
  {
   "cell_type": "code",
   "execution_count": 180,
   "id": "61860999",
   "metadata": {},
   "outputs": [
    {
     "name": "stdout",
     "output_type": "stream",
     "text": [
      "              precision    recall  f1-score   support\n",
      "\n",
      "           0       0.89      0.94      0.92      6179\n",
      "           1       0.79      0.64      0.71      1962\n",
      "\n",
      "    accuracy                           0.87      8141\n",
      "   macro avg       0.84      0.79      0.81      8141\n",
      "weighted avg       0.87      0.87      0.87      8141\n",
      "\n"
     ]
    }
   ],
   "source": [
    "print(classification_report(y_test, y_pred))"
   ]
  },
  {
   "cell_type": "code",
   "execution_count": 192,
   "id": "14238e72",
   "metadata": {},
   "outputs": [
    {
     "name": "stdout",
     "output_type": "stream",
     "text": [
      "[0]\tvalidation_0-auc:0.88563\tvalidation_1-auc:0.88326\n",
      "[1]\tvalidation_0-auc:0.89968\tvalidation_1-auc:0.89862\n",
      "[2]\tvalidation_0-auc:0.90043\tvalidation_1-auc:0.89871\n",
      "[3]\tvalidation_0-auc:0.90359\tvalidation_1-auc:0.90125\n",
      "[4]\tvalidation_0-auc:0.90553\tvalidation_1-auc:0.90332\n",
      "[5]\tvalidation_0-auc:0.90700\tvalidation_1-auc:0.90515\n",
      "[6]\tvalidation_0-auc:0.90863\tvalidation_1-auc:0.90679\n",
      "[7]\tvalidation_0-auc:0.90993\tvalidation_1-auc:0.90877\n",
      "[8]\tvalidation_0-auc:0.91081\tvalidation_1-auc:0.90905\n",
      "[9]\tvalidation_0-auc:0.91155\tvalidation_1-auc:0.90894\n",
      "[10]\tvalidation_0-auc:0.91255\tvalidation_1-auc:0.91033\n",
      "[11]\tvalidation_0-auc:0.91415\tvalidation_1-auc:0.91126\n",
      "[12]\tvalidation_0-auc:0.91509\tvalidation_1-auc:0.91223\n",
      "[13]\tvalidation_0-auc:0.91629\tvalidation_1-auc:0.91301\n",
      "[14]\tvalidation_0-auc:0.91677\tvalidation_1-auc:0.91356\n",
      "[15]\tvalidation_0-auc:0.91801\tvalidation_1-auc:0.91475\n",
      "[16]\tvalidation_0-auc:0.91877\tvalidation_1-auc:0.91541\n",
      "[17]\tvalidation_0-auc:0.91937\tvalidation_1-auc:0.91558\n",
      "[18]\tvalidation_0-auc:0.92009\tvalidation_1-auc:0.91574\n",
      "[19]\tvalidation_0-auc:0.92074\tvalidation_1-auc:0.91626\n",
      "[20]\tvalidation_0-auc:0.92140\tvalidation_1-auc:0.91658\n",
      "[21]\tvalidation_0-auc:0.92213\tvalidation_1-auc:0.91734\n",
      "[22]\tvalidation_0-auc:0.92277\tvalidation_1-auc:0.91797\n",
      "[23]\tvalidation_0-auc:0.92323\tvalidation_1-auc:0.91830\n",
      "[24]\tvalidation_0-auc:0.92376\tvalidation_1-auc:0.91864\n",
      "[25]\tvalidation_0-auc:0.92401\tvalidation_1-auc:0.91888\n",
      "[26]\tvalidation_0-auc:0.92446\tvalidation_1-auc:0.91915\n",
      "[27]\tvalidation_0-auc:0.92489\tvalidation_1-auc:0.91908\n",
      "[28]\tvalidation_0-auc:0.92529\tvalidation_1-auc:0.91950\n",
      "[29]\tvalidation_0-auc:0.92585\tvalidation_1-auc:0.91956\n",
      "[30]\tvalidation_0-auc:0.92685\tvalidation_1-auc:0.92063\n",
      "[31]\tvalidation_0-auc:0.92718\tvalidation_1-auc:0.92093\n",
      "[32]\tvalidation_0-auc:0.92760\tvalidation_1-auc:0.92151\n",
      "[33]\tvalidation_0-auc:0.92796\tvalidation_1-auc:0.92176\n",
      "[34]\tvalidation_0-auc:0.92825\tvalidation_1-auc:0.92196\n",
      "[35]\tvalidation_0-auc:0.92879\tvalidation_1-auc:0.92249\n",
      "[36]\tvalidation_0-auc:0.92928\tvalidation_1-auc:0.92257\n",
      "[37]\tvalidation_0-auc:0.92971\tvalidation_1-auc:0.92285\n",
      "[38]\tvalidation_0-auc:0.93007\tvalidation_1-auc:0.92293\n",
      "[39]\tvalidation_0-auc:0.93045\tvalidation_1-auc:0.92327\n",
      "[40]\tvalidation_0-auc:0.93079\tvalidation_1-auc:0.92329\n",
      "[41]\tvalidation_0-auc:0.93100\tvalidation_1-auc:0.92355\n",
      "[42]\tvalidation_0-auc:0.93143\tvalidation_1-auc:0.92353\n",
      "[43]\tvalidation_0-auc:0.93193\tvalidation_1-auc:0.92406\n",
      "[44]\tvalidation_0-auc:0.93223\tvalidation_1-auc:0.92418\n",
      "[45]\tvalidation_0-auc:0.93252\tvalidation_1-auc:0.92419\n",
      "[46]\tvalidation_0-auc:0.93283\tvalidation_1-auc:0.92453\n",
      "[47]\tvalidation_0-auc:0.93327\tvalidation_1-auc:0.92449\n",
      "[48]\tvalidation_0-auc:0.93359\tvalidation_1-auc:0.92471\n",
      "[49]\tvalidation_0-auc:0.93396\tvalidation_1-auc:0.92491\n",
      "[50]\tvalidation_0-auc:0.93424\tvalidation_1-auc:0.92499\n",
      "[51]\tvalidation_0-auc:0.93451\tvalidation_1-auc:0.92527\n",
      "[52]\tvalidation_0-auc:0.93480\tvalidation_1-auc:0.92537\n",
      "[53]\tvalidation_0-auc:0.93514\tvalidation_1-auc:0.92574\n",
      "[54]\tvalidation_0-auc:0.93556\tvalidation_1-auc:0.92602\n",
      "[55]\tvalidation_0-auc:0.93566\tvalidation_1-auc:0.92613\n",
      "[56]\tvalidation_0-auc:0.93601\tvalidation_1-auc:0.92622\n",
      "[57]\tvalidation_0-auc:0.93620\tvalidation_1-auc:0.92635\n",
      "[58]\tvalidation_0-auc:0.93634\tvalidation_1-auc:0.92638\n",
      "[59]\tvalidation_0-auc:0.93671\tvalidation_1-auc:0.92661\n",
      "[60]\tvalidation_0-auc:0.93704\tvalidation_1-auc:0.92659\n",
      "[61]\tvalidation_0-auc:0.93718\tvalidation_1-auc:0.92665\n",
      "[62]\tvalidation_0-auc:0.93741\tvalidation_1-auc:0.92678\n",
      "[63]\tvalidation_0-auc:0.93759\tvalidation_1-auc:0.92682\n",
      "[64]\tvalidation_0-auc:0.93778\tvalidation_1-auc:0.92691\n",
      "[65]\tvalidation_0-auc:0.93818\tvalidation_1-auc:0.92709\n",
      "[66]\tvalidation_0-auc:0.93830\tvalidation_1-auc:0.92711\n",
      "[67]\tvalidation_0-auc:0.93859\tvalidation_1-auc:0.92744\n",
      "[68]\tvalidation_0-auc:0.93880\tvalidation_1-auc:0.92770\n",
      "[69]\tvalidation_0-auc:0.93894\tvalidation_1-auc:0.92773\n",
      "[70]\tvalidation_0-auc:0.93925\tvalidation_1-auc:0.92773\n",
      "[71]\tvalidation_0-auc:0.93931\tvalidation_1-auc:0.92771\n",
      "[72]\tvalidation_0-auc:0.93941\tvalidation_1-auc:0.92776\n",
      "[73]\tvalidation_0-auc:0.93952\tvalidation_1-auc:0.92777\n",
      "[74]\tvalidation_0-auc:0.93976\tvalidation_1-auc:0.92803\n",
      "[75]\tvalidation_0-auc:0.93991\tvalidation_1-auc:0.92800\n",
      "[76]\tvalidation_0-auc:0.94008\tvalidation_1-auc:0.92820\n",
      "[77]\tvalidation_0-auc:0.94027\tvalidation_1-auc:0.92827\n",
      "[78]\tvalidation_0-auc:0.94044\tvalidation_1-auc:0.92834\n",
      "[79]\tvalidation_0-auc:0.94053\tvalidation_1-auc:0.92837\n",
      "[80]\tvalidation_0-auc:0.94073\tvalidation_1-auc:0.92850\n",
      "[81]\tvalidation_0-auc:0.94081\tvalidation_1-auc:0.92863\n",
      "[82]\tvalidation_0-auc:0.94086\tvalidation_1-auc:0.92865\n",
      "[83]\tvalidation_0-auc:0.94101\tvalidation_1-auc:0.92881\n",
      "[84]\tvalidation_0-auc:0.94117\tvalidation_1-auc:0.92882\n",
      "[85]\tvalidation_0-auc:0.94146\tvalidation_1-auc:0.92891\n",
      "[86]\tvalidation_0-auc:0.94165\tvalidation_1-auc:0.92905\n",
      "[87]\tvalidation_0-auc:0.94195\tvalidation_1-auc:0.92895\n",
      "[88]\tvalidation_0-auc:0.94206\tvalidation_1-auc:0.92894\n",
      "[89]\tvalidation_0-auc:0.94235\tvalidation_1-auc:0.92893\n",
      "[90]\tvalidation_0-auc:0.94251\tvalidation_1-auc:0.92888\n",
      "[91]\tvalidation_0-auc:0.94259\tvalidation_1-auc:0.92888\n",
      "[92]\tvalidation_0-auc:0.94269\tvalidation_1-auc:0.92897\n",
      "[93]\tvalidation_0-auc:0.94281\tvalidation_1-auc:0.92905\n",
      "[94]\tvalidation_0-auc:0.94298\tvalidation_1-auc:0.92913\n",
      "[95]\tvalidation_0-auc:0.94318\tvalidation_1-auc:0.92921\n",
      "[96]\tvalidation_0-auc:0.94325\tvalidation_1-auc:0.92922\n",
      "[97]\tvalidation_0-auc:0.94345\tvalidation_1-auc:0.92925\n",
      "[98]\tvalidation_0-auc:0.94350\tvalidation_1-auc:0.92929\n",
      "[99]\tvalidation_0-auc:0.94362\tvalidation_1-auc:0.92927\n",
      "[100]\tvalidation_0-auc:0.94372\tvalidation_1-auc:0.92938\n",
      "[101]\tvalidation_0-auc:0.94392\tvalidation_1-auc:0.92928\n",
      "[102]\tvalidation_0-auc:0.94410\tvalidation_1-auc:0.92929\n",
      "[103]\tvalidation_0-auc:0.94415\tvalidation_1-auc:0.92937\n",
      "[104]\tvalidation_0-auc:0.94428\tvalidation_1-auc:0.92933\n",
      "[105]\tvalidation_0-auc:0.94443\tvalidation_1-auc:0.92921\n",
      "[106]\tvalidation_0-auc:0.94456\tvalidation_1-auc:0.92933\n",
      "[107]\tvalidation_0-auc:0.94473\tvalidation_1-auc:0.92937\n",
      "[108]\tvalidation_0-auc:0.94488\tvalidation_1-auc:0.92932\n",
      "[109]\tvalidation_0-auc:0.94498\tvalidation_1-auc:0.92927\n",
      "[110]\tvalidation_0-auc:0.94508\tvalidation_1-auc:0.92916\n",
      "[111]\tvalidation_0-auc:0.94515\tvalidation_1-auc:0.92928\n",
      "[112]\tvalidation_0-auc:0.94524\tvalidation_1-auc:0.92925\n",
      "[113]\tvalidation_0-auc:0.94532\tvalidation_1-auc:0.92925\n",
      "[114]\tvalidation_0-auc:0.94545\tvalidation_1-auc:0.92922\n",
      "[115]\tvalidation_0-auc:0.94559\tvalidation_1-auc:0.92919\n",
      "[116]\tvalidation_0-auc:0.94572\tvalidation_1-auc:0.92929\n",
      "[117]\tvalidation_0-auc:0.94585\tvalidation_1-auc:0.92926\n",
      "[118]\tvalidation_0-auc:0.94596\tvalidation_1-auc:0.92944\n",
      "[119]\tvalidation_0-auc:0.94609\tvalidation_1-auc:0.92941\n",
      "[120]\tvalidation_0-auc:0.94640\tvalidation_1-auc:0.92945\n",
      "[121]\tvalidation_0-auc:0.94658\tvalidation_1-auc:0.92954\n",
      "[122]\tvalidation_0-auc:0.94665\tvalidation_1-auc:0.92955\n",
      "[123]\tvalidation_0-auc:0.94670\tvalidation_1-auc:0.92958\n",
      "[124]\tvalidation_0-auc:0.94690\tvalidation_1-auc:0.92947\n",
      "[125]\tvalidation_0-auc:0.94697\tvalidation_1-auc:0.92953\n",
      "[126]\tvalidation_0-auc:0.94713\tvalidation_1-auc:0.92954\n",
      "[127]\tvalidation_0-auc:0.94727\tvalidation_1-auc:0.92962\n",
      "[128]\tvalidation_0-auc:0.94749\tvalidation_1-auc:0.92962\n",
      "[129]\tvalidation_0-auc:0.94777\tvalidation_1-auc:0.92966\n",
      "[130]\tvalidation_0-auc:0.94784\tvalidation_1-auc:0.92963\n",
      "[131]\tvalidation_0-auc:0.94788\tvalidation_1-auc:0.92966\n",
      "[132]\tvalidation_0-auc:0.94808\tvalidation_1-auc:0.92963\n",
      "[133]\tvalidation_0-auc:0.94816\tvalidation_1-auc:0.92961\n",
      "[134]\tvalidation_0-auc:0.94836\tvalidation_1-auc:0.92963\n",
      "[135]\tvalidation_0-auc:0.94844\tvalidation_1-auc:0.92958\n",
      "[136]\tvalidation_0-auc:0.94851\tvalidation_1-auc:0.92965\n",
      "[137]\tvalidation_0-auc:0.94855\tvalidation_1-auc:0.92967\n",
      "[138]\tvalidation_0-auc:0.94862\tvalidation_1-auc:0.92958\n",
      "[139]\tvalidation_0-auc:0.94875\tvalidation_1-auc:0.92959\n",
      "[140]\tvalidation_0-auc:0.94885\tvalidation_1-auc:0.92956\n",
      "[141]\tvalidation_0-auc:0.94898\tvalidation_1-auc:0.92961\n",
      "[142]\tvalidation_0-auc:0.94911\tvalidation_1-auc:0.92959\n",
      "[143]\tvalidation_0-auc:0.94916\tvalidation_1-auc:0.92961\n",
      "[144]\tvalidation_0-auc:0.94946\tvalidation_1-auc:0.92961\n",
      "[145]\tvalidation_0-auc:0.94952\tvalidation_1-auc:0.92959\n",
      "[146]\tvalidation_0-auc:0.94964\tvalidation_1-auc:0.92959\n",
      "[147]\tvalidation_0-auc:0.94975\tvalidation_1-auc:0.92955\n",
      "[148]\tvalidation_0-auc:0.94991\tvalidation_1-auc:0.92952\n"
     ]
    },
    {
     "name": "stdout",
     "output_type": "stream",
     "text": [
      "[149]\tvalidation_0-auc:0.94994\tvalidation_1-auc:0.92952\n",
      "[150]\tvalidation_0-auc:0.95003\tvalidation_1-auc:0.92957\n",
      "[151]\tvalidation_0-auc:0.95015\tvalidation_1-auc:0.92956\n",
      "[152]\tvalidation_0-auc:0.95028\tvalidation_1-auc:0.92957\n",
      "[153]\tvalidation_0-auc:0.95044\tvalidation_1-auc:0.92953\n",
      "[154]\tvalidation_0-auc:0.95055\tvalidation_1-auc:0.92953\n",
      "[155]\tvalidation_0-auc:0.95067\tvalidation_1-auc:0.92949\n",
      "[156]\tvalidation_0-auc:0.95071\tvalidation_1-auc:0.92951\n",
      "[157]\tvalidation_0-auc:0.95078\tvalidation_1-auc:0.92958\n",
      "[158]\tvalidation_0-auc:0.95084\tvalidation_1-auc:0.92952\n",
      "[159]\tvalidation_0-auc:0.95095\tvalidation_1-auc:0.92964\n",
      "[160]\tvalidation_0-auc:0.95100\tvalidation_1-auc:0.92971\n",
      "[161]\tvalidation_0-auc:0.95110\tvalidation_1-auc:0.92971\n",
      "[162]\tvalidation_0-auc:0.95127\tvalidation_1-auc:0.92970\n",
      "[163]\tvalidation_0-auc:0.95134\tvalidation_1-auc:0.92966\n",
      "[164]\tvalidation_0-auc:0.95140\tvalidation_1-auc:0.92969\n",
      "[165]\tvalidation_0-auc:0.95153\tvalidation_1-auc:0.92964\n",
      "[166]\tvalidation_0-auc:0.95164\tvalidation_1-auc:0.92963\n",
      "[167]\tvalidation_0-auc:0.95168\tvalidation_1-auc:0.92961\n",
      "[168]\tvalidation_0-auc:0.95179\tvalidation_1-auc:0.92960\n",
      "[169]\tvalidation_0-auc:0.95187\tvalidation_1-auc:0.92962\n"
     ]
    },
    {
     "data": {
      "text/plain": [
       "XGBClassifier(base_score=0.5, booster='gbtree', colsample_bylevel=1,\n",
       "              colsample_bynode=1, colsample_bytree=0.8, gamma=0, gpu_id=-1,\n",
       "              importance_type='gain', interaction_constraints='',\n",
       "              learning_rate=0.15, max_delta_step=0, max_depth=5,\n",
       "              min_child_weight=1, missing=nan, monotone_constraints='()',\n",
       "              n_estimators=170, n_jobs=4, num_parallel_tree=1, random_state=0,\n",
       "              reg_alpha=0, reg_lambda=1, scale_pos_weight=1, subsample=0.8,\n",
       "              tree_method='exact', validate_parameters=1, verbosity=None)"
      ]
     },
     "execution_count": 192,
     "metadata": {},
     "output_type": "execute_result"
    }
   ],
   "source": [
    "params = {'n_estimators': 170,\n",
    "          'learning_rate': 0.15,\n",
    "          'max_depth': 5,\n",
    "          'min_child_weight': 1,\n",
    "          'subsample': 0.8,\n",
    "          'colsample_bytree': 0.8,\n",
    "          'n_jobs': 4}\n",
    "\n",
    "model = xgb.XGBClassifier(**params)\n",
    "model.fit(x_train, y_train, eval_metric='auc', eval_set=[[x_train, y_train], [x_test, y_test]])"
   ]
  },
  {
   "cell_type": "code",
   "execution_count": 193,
   "id": "a1e88bbf",
   "metadata": {},
   "outputs": [],
   "source": [
    "y_pred = model.predict(x_test)"
   ]
  },
  {
   "cell_type": "code",
   "execution_count": 194,
   "id": "ab9ce112",
   "metadata": {},
   "outputs": [
    {
     "name": "stdout",
     "output_type": "stream",
     "text": [
      "              precision    recall  f1-score   support\n",
      "\n",
      "           0       0.90      0.94      0.92      6179\n",
      "           1       0.78      0.67      0.72      1962\n",
      "\n",
      "    accuracy                           0.87      8141\n",
      "   macro avg       0.84      0.80      0.82      8141\n",
      "weighted avg       0.87      0.87      0.87      8141\n",
      "\n"
     ]
    }
   ],
   "source": [
    "print(classification_report(y_test, y_pred))"
   ]
  },
  {
   "cell_type": "markdown",
   "id": "46e9093c",
   "metadata": {},
   "source": [
    "### Подбор по сетке"
   ]
  },
  {
   "cell_type": "markdown",
   "id": "bf8393d5",
   "metadata": {},
   "source": [
    "Описываем функцию, возвращающую наилучшие параметры"
   ]
  },
  {
   "cell_type": "code",
   "execution_count": 198,
   "id": "768ae595",
   "metadata": {},
   "outputs": [],
   "source": [
    "def find_params(model, param_grid):\n",
    "    model = GridSearchCV(model, param_grid, scoring='roc_auc', cv=[(np.arange(len(x_train)),\n",
    "                                                               np.arange(len(x_test)) + len(x_train))], verbose=3)\n",
    "\n",
    "    model.fit(pd.concat([x_train, x_test]).values, pd.concat([y_train, y_test]).values)\n",
    "    best_params = model.best_estimator_.get_params()\n",
    "    print('Best test ROC AUC: ', clf.best_score_)\n",
    "    print('Best params: ', best_params)\n",
    "    return best_params"
   ]
  },
  {
   "cell_type": "code",
   "execution_count": 204,
   "id": "bc0e7a5a",
   "metadata": {},
   "outputs": [
    {
     "name": "stdout",
     "output_type": "stream",
     "text": [
      "Fitting 1 folds for each of 9 candidates, totalling 9 fits\n",
      "[21:35:02] WARNING: ..\\src\\learner.cc:1061: Starting in XGBoost 1.3.0, the default evaluation metric used with the objective 'binary:logistic' was changed from 'error' to 'logloss'. Explicitly set eval_metric if you'd like to restore the old behavior.\n",
      "[CV 1/1] END ................max_depth=3, min_child_weight=7; total time=   1.5s\n",
      "[21:35:03] WARNING: ..\\src\\learner.cc:1061: Starting in XGBoost 1.3.0, the default evaluation metric used with the objective 'binary:logistic' was changed from 'error' to 'logloss'. Explicitly set eval_metric if you'd like to restore the old behavior.\n",
      "[CV 1/1] END ...............max_depth=3, min_child_weight=10; total time=   1.4s\n",
      "[21:35:05] WARNING: ..\\src\\learner.cc:1061: Starting in XGBoost 1.3.0, the default evaluation metric used with the objective 'binary:logistic' was changed from 'error' to 'logloss'. Explicitly set eval_metric if you'd like to restore the old behavior.\n",
      "[CV 1/1] END ...............max_depth=3, min_child_weight=13; total time=   1.4s\n",
      "[21:35:06] WARNING: ..\\src\\learner.cc:1061: Starting in XGBoost 1.3.0, the default evaluation metric used with the objective 'binary:logistic' was changed from 'error' to 'logloss'. Explicitly set eval_metric if you'd like to restore the old behavior.\n",
      "[CV 1/1] END ................max_depth=5, min_child_weight=7; total time=   2.1s\n",
      "[21:35:08] WARNING: ..\\src\\learner.cc:1061: Starting in XGBoost 1.3.0, the default evaluation metric used with the objective 'binary:logistic' was changed from 'error' to 'logloss'. Explicitly set eval_metric if you'd like to restore the old behavior.\n",
      "[CV 1/1] END ...............max_depth=5, min_child_weight=10; total time=   2.2s\n",
      "[21:35:11] WARNING: ..\\src\\learner.cc:1061: Starting in XGBoost 1.3.0, the default evaluation metric used with the objective 'binary:logistic' was changed from 'error' to 'logloss'. Explicitly set eval_metric if you'd like to restore the old behavior.\n",
      "[CV 1/1] END ...............max_depth=5, min_child_weight=13; total time=   2.2s\n",
      "[21:35:13] WARNING: ..\\src\\learner.cc:1061: Starting in XGBoost 1.3.0, the default evaluation metric used with the objective 'binary:logistic' was changed from 'error' to 'logloss'. Explicitly set eval_metric if you'd like to restore the old behavior.\n",
      "[CV 1/1] END ...............max_depth=10, min_child_weight=7; total time=   4.2s\n",
      "[21:35:17] WARNING: ..\\src\\learner.cc:1061: Starting in XGBoost 1.3.0, the default evaluation metric used with the objective 'binary:logistic' was changed from 'error' to 'logloss'. Explicitly set eval_metric if you'd like to restore the old behavior.\n",
      "[CV 1/1] END ..............max_depth=10, min_child_weight=10; total time=   4.2s\n",
      "[21:35:22] WARNING: ..\\src\\learner.cc:1061: Starting in XGBoost 1.3.0, the default evaluation metric used with the objective 'binary:logistic' was changed from 'error' to 'logloss'. Explicitly set eval_metric if you'd like to restore the old behavior.\n",
      "[CV 1/1] END ..............max_depth=10, min_child_weight=13; total time=   4.2s\n",
      "[21:35:26] WARNING: ..\\src\\learner.cc:1061: Starting in XGBoost 1.3.0, the default evaluation metric used with the objective 'binary:logistic' was changed from 'error' to 'logloss'. Explicitly set eval_metric if you'd like to restore the old behavior.\n",
      "Best test ROC AUC:  0.9286028323549609\n",
      "Best params:  {'objective': 'binary:logistic', 'use_label_encoder': False, 'base_score': 0.5, 'booster': 'gbtree', 'colsample_bylevel': 1, 'colsample_bynode': 1, 'colsample_bytree': 0.8, 'gamma': 0, 'gpu_id': -1, 'importance_type': 'gain', 'interaction_constraints': '', 'learning_rate': 0.15, 'max_delta_step': 0, 'max_depth': 5, 'min_child_weight': 10, 'missing': nan, 'monotone_constraints': '()', 'n_estimators': 170, 'n_jobs': 4, 'num_parallel_tree': 1, 'random_state': 0, 'reg_alpha': 0, 'reg_lambda': 1, 'scale_pos_weight': 1, 'subsample': 0.8, 'tree_method': 'exact', 'validate_parameters': 1, 'verbosity': None}\n"
     ]
    }
   ],
   "source": [
    "from sklearn.model_selection import GridSearchCV\n",
    "\n",
    "model = xgb.XGBClassifier(**params, use_label_encoder=False)\n",
    "\n",
    "param_grid = {\n",
    "    'max_depth': [3, 5, 10],\n",
    "    'min_child_weight': [7,10,13]#[1, 5, 10]\n",
    "}\n",
    "\n",
    "best_params = find_params(model, param_grid)"
   ]
  },
  {
   "cell_type": "code",
   "execution_count": 209,
   "id": "52a07edd",
   "metadata": {},
   "outputs": [
    {
     "name": "stdout",
     "output_type": "stream",
     "text": [
      "Fitting 1 folds for each of 36 candidates, totalling 36 fits\n",
      "[18:13:23] WARNING: ..\\src\\learner.cc:1061: Starting in XGBoost 1.3.0, the default evaluation metric used with the objective 'binary:logistic' was changed from 'error' to 'logloss'. Explicitly set eval_metric if you'd like to restore the old behavior.\n",
      "[CV 1/1] END ............colsample_bytree=0.5, subsample=0.5; total time=   1.9s\n",
      "[18:13:25] WARNING: ..\\src\\learner.cc:1061: Starting in XGBoost 1.3.0, the default evaluation metric used with the objective 'binary:logistic' was changed from 'error' to 'logloss'. Explicitly set eval_metric if you'd like to restore the old behavior.\n",
      "[CV 1/1] END ............colsample_bytree=0.5, subsample=0.6; total time=   1.8s\n",
      "[18:13:27] WARNING: ..\\src\\learner.cc:1061: Starting in XGBoost 1.3.0, the default evaluation metric used with the objective 'binary:logistic' was changed from 'error' to 'logloss'. Explicitly set eval_metric if you'd like to restore the old behavior.\n",
      "[CV 1/1] END ............colsample_bytree=0.5, subsample=0.7; total time=   1.7s\n",
      "[18:13:29] WARNING: ..\\src\\learner.cc:1061: Starting in XGBoost 1.3.0, the default evaluation metric used with the objective 'binary:logistic' was changed from 'error' to 'logloss'. Explicitly set eval_metric if you'd like to restore the old behavior.\n",
      "[CV 1/1] END ............colsample_bytree=0.5, subsample=0.8; total time=   1.6s\n",
      "[18:13:31] WARNING: ..\\src\\learner.cc:1061: Starting in XGBoost 1.3.0, the default evaluation metric used with the objective 'binary:logistic' was changed from 'error' to 'logloss'. Explicitly set eval_metric if you'd like to restore the old behavior.\n",
      "[CV 1/1] END ............colsample_bytree=0.5, subsample=0.9; total time=   1.5s\n",
      "[18:13:32] WARNING: ..\\src\\learner.cc:1061: Starting in XGBoost 1.3.0, the default evaluation metric used with the objective 'binary:logistic' was changed from 'error' to 'logloss'. Explicitly set eval_metric if you'd like to restore the old behavior.\n",
      "[CV 1/1] END ............colsample_bytree=0.5, subsample=1.0; total time=   1.3s\n",
      "[18:13:34] WARNING: ..\\src\\learner.cc:1061: Starting in XGBoost 1.3.0, the default evaluation metric used with the objective 'binary:logistic' was changed from 'error' to 'logloss'. Explicitly set eval_metric if you'd like to restore the old behavior.\n",
      "[CV 1/1] END ............colsample_bytree=0.6, subsample=0.5; total time=   2.1s\n",
      "[18:13:36] WARNING: ..\\src\\learner.cc:1061: Starting in XGBoost 1.3.0, the default evaluation metric used with the objective 'binary:logistic' was changed from 'error' to 'logloss'. Explicitly set eval_metric if you'd like to restore the old behavior.\n",
      "[CV 1/1] END ............colsample_bytree=0.6, subsample=0.6; total time=   2.0s\n",
      "[18:13:38] WARNING: ..\\src\\learner.cc:1061: Starting in XGBoost 1.3.0, the default evaluation metric used with the objective 'binary:logistic' was changed from 'error' to 'logloss'. Explicitly set eval_metric if you'd like to restore the old behavior.\n",
      "[CV 1/1] END ............colsample_bytree=0.6, subsample=0.7; total time=   2.0s\n",
      "[18:13:40] WARNING: ..\\src\\learner.cc:1061: Starting in XGBoost 1.3.0, the default evaluation metric used with the objective 'binary:logistic' was changed from 'error' to 'logloss'. Explicitly set eval_metric if you'd like to restore the old behavior.\n",
      "[CV 1/1] END ............colsample_bytree=0.6, subsample=0.8; total time=   1.8s\n",
      "[18:13:42] WARNING: ..\\src\\learner.cc:1061: Starting in XGBoost 1.3.0, the default evaluation metric used with the objective 'binary:logistic' was changed from 'error' to 'logloss'. Explicitly set eval_metric if you'd like to restore the old behavior.\n",
      "[CV 1/1] END ............colsample_bytree=0.6, subsample=0.9; total time=   1.7s\n",
      "[18:13:44] WARNING: ..\\src\\learner.cc:1061: Starting in XGBoost 1.3.0, the default evaluation metric used with the objective 'binary:logistic' was changed from 'error' to 'logloss'. Explicitly set eval_metric if you'd like to restore the old behavior.\n",
      "[CV 1/1] END ............colsample_bytree=0.6, subsample=1.0; total time=   1.5s\n",
      "[18:13:45] WARNING: ..\\src\\learner.cc:1061: Starting in XGBoost 1.3.0, the default evaluation metric used with the objective 'binary:logistic' was changed from 'error' to 'logloss'. Explicitly set eval_metric if you'd like to restore the old behavior.\n",
      "[CV 1/1] END ............colsample_bytree=0.7, subsample=0.5; total time=   2.4s\n",
      "[18:13:48] WARNING: ..\\src\\learner.cc:1061: Starting in XGBoost 1.3.0, the default evaluation metric used with the objective 'binary:logistic' was changed from 'error' to 'logloss'. Explicitly set eval_metric if you'd like to restore the old behavior.\n",
      "[CV 1/1] END ............colsample_bytree=0.7, subsample=0.6; total time=   2.3s\n",
      "[18:13:50] WARNING: ..\\src\\learner.cc:1061: Starting in XGBoost 1.3.0, the default evaluation metric used with the objective 'binary:logistic' was changed from 'error' to 'logloss'. Explicitly set eval_metric if you'd like to restore the old behavior.\n",
      "[CV 1/1] END ............colsample_bytree=0.7, subsample=0.7; total time=   2.1s\n",
      "[18:13:52] WARNING: ..\\src\\learner.cc:1061: Starting in XGBoost 1.3.0, the default evaluation metric used with the objective 'binary:logistic' was changed from 'error' to 'logloss'. Explicitly set eval_metric if you'd like to restore the old behavior.\n",
      "[CV 1/1] END ............colsample_bytree=0.7, subsample=0.8; total time=   2.2s\n",
      "[18:13:55] WARNING: ..\\src\\learner.cc:1061: Starting in XGBoost 1.3.0, the default evaluation metric used with the objective 'binary:logistic' was changed from 'error' to 'logloss'. Explicitly set eval_metric if you'd like to restore the old behavior.\n",
      "[CV 1/1] END ............colsample_bytree=0.7, subsample=0.9; total time=   1.8s\n",
      "[18:13:57] WARNING: ..\\src\\learner.cc:1061: Starting in XGBoost 1.3.0, the default evaluation metric used with the objective 'binary:logistic' was changed from 'error' to 'logloss'. Explicitly set eval_metric if you'd like to restore the old behavior.\n",
      "[CV 1/1] END ............colsample_bytree=0.7, subsample=1.0; total time=   1.7s\n",
      "[18:13:59] WARNING: ..\\src\\learner.cc:1061: Starting in XGBoost 1.3.0, the default evaluation metric used with the objective 'binary:logistic' was changed from 'error' to 'logloss'. Explicitly set eval_metric if you'd like to restore the old behavior.\n",
      "[CV 1/1] END ............colsample_bytree=0.8, subsample=0.5; total time=   2.6s\n",
      "[18:14:01] WARNING: ..\\src\\learner.cc:1061: Starting in XGBoost 1.3.0, the default evaluation metric used with the objective 'binary:logistic' was changed from 'error' to 'logloss'. Explicitly set eval_metric if you'd like to restore the old behavior.\n",
      "[CV 1/1] END ............colsample_bytree=0.8, subsample=0.6; total time=   2.6s\n",
      "[18:14:04] WARNING: ..\\src\\learner.cc:1061: Starting in XGBoost 1.3.0, the default evaluation metric used with the objective 'binary:logistic' was changed from 'error' to 'logloss'. Explicitly set eval_metric if you'd like to restore the old behavior.\n",
      "[CV 1/1] END ............colsample_bytree=0.8, subsample=0.7; total time=   2.4s\n",
      "[18:14:06] WARNING: ..\\src\\learner.cc:1061: Starting in XGBoost 1.3.0, the default evaluation metric used with the objective 'binary:logistic' was changed from 'error' to 'logloss'. Explicitly set eval_metric if you'd like to restore the old behavior.\n",
      "[CV 1/1] END ............colsample_bytree=0.8, subsample=0.8; total time=   2.1s\n",
      "[18:14:09] WARNING: ..\\src\\learner.cc:1061: Starting in XGBoost 1.3.0, the default evaluation metric used with the objective 'binary:logistic' was changed from 'error' to 'logloss'. Explicitly set eval_metric if you'd like to restore the old behavior.\n",
      "[CV 1/1] END ............colsample_bytree=0.8, subsample=0.9; total time=   2.0s\n",
      "[18:14:11] WARNING: ..\\src\\learner.cc:1061: Starting in XGBoost 1.3.0, the default evaluation metric used with the objective 'binary:logistic' was changed from 'error' to 'logloss'. Explicitly set eval_metric if you'd like to restore the old behavior.\n",
      "[CV 1/1] END ............colsample_bytree=0.8, subsample=1.0; total time=   1.8s\n",
      "[18:14:13] WARNING: ..\\src\\learner.cc:1061: Starting in XGBoost 1.3.0, the default evaluation metric used with the objective 'binary:logistic' was changed from 'error' to 'logloss'. Explicitly set eval_metric if you'd like to restore the old behavior.\n"
     ]
    },
    {
     "name": "stdout",
     "output_type": "stream",
     "text": [
      "[CV 1/1] END ............colsample_bytree=0.9, subsample=0.5; total time=   2.9s\n",
      "[18:14:16] WARNING: ..\\src\\learner.cc:1061: Starting in XGBoost 1.3.0, the default evaluation metric used with the objective 'binary:logistic' was changed from 'error' to 'logloss'. Explicitly set eval_metric if you'd like to restore the old behavior.\n",
      "[CV 1/1] END ............colsample_bytree=0.9, subsample=0.6; total time=   2.8s\n",
      "[18:14:19] WARNING: ..\\src\\learner.cc:1061: Starting in XGBoost 1.3.0, the default evaluation metric used with the objective 'binary:logistic' was changed from 'error' to 'logloss'. Explicitly set eval_metric if you'd like to restore the old behavior.\n",
      "[CV 1/1] END ............colsample_bytree=0.9, subsample=0.7; total time=   2.6s\n",
      "[18:14:21] WARNING: ..\\src\\learner.cc:1061: Starting in XGBoost 1.3.0, the default evaluation metric used with the objective 'binary:logistic' was changed from 'error' to 'logloss'. Explicitly set eval_metric if you'd like to restore the old behavior.\n",
      "[CV 1/1] END ............colsample_bytree=0.9, subsample=0.8; total time=   2.4s\n",
      "[18:14:24] WARNING: ..\\src\\learner.cc:1061: Starting in XGBoost 1.3.0, the default evaluation metric used with the objective 'binary:logistic' was changed from 'error' to 'logloss'. Explicitly set eval_metric if you'd like to restore the old behavior.\n",
      "[CV 1/1] END ............colsample_bytree=0.9, subsample=0.9; total time=   2.3s\n",
      "[18:14:26] WARNING: ..\\src\\learner.cc:1061: Starting in XGBoost 1.3.0, the default evaluation metric used with the objective 'binary:logistic' was changed from 'error' to 'logloss'. Explicitly set eval_metric if you'd like to restore the old behavior.\n",
      "[CV 1/1] END ............colsample_bytree=0.9, subsample=1.0; total time=   2.0s\n",
      "[18:14:28] WARNING: ..\\src\\learner.cc:1061: Starting in XGBoost 1.3.0, the default evaluation metric used with the objective 'binary:logistic' was changed from 'error' to 'logloss'. Explicitly set eval_metric if you'd like to restore the old behavior.\n",
      "[CV 1/1] END ............colsample_bytree=1.0, subsample=0.5; total time=   3.3s\n",
      "[18:14:32] WARNING: ..\\src\\learner.cc:1061: Starting in XGBoost 1.3.0, the default evaluation metric used with the objective 'binary:logistic' was changed from 'error' to 'logloss'. Explicitly set eval_metric if you'd like to restore the old behavior.\n",
      "[CV 1/1] END ............colsample_bytree=1.0, subsample=0.6; total time=   3.1s\n",
      "[18:14:35] WARNING: ..\\src\\learner.cc:1061: Starting in XGBoost 1.3.0, the default evaluation metric used with the objective 'binary:logistic' was changed from 'error' to 'logloss'. Explicitly set eval_metric if you'd like to restore the old behavior.\n",
      "[CV 1/1] END ............colsample_bytree=1.0, subsample=0.7; total time=   2.8s\n",
      "[18:14:38] WARNING: ..\\src\\learner.cc:1061: Starting in XGBoost 1.3.0, the default evaluation metric used with the objective 'binary:logistic' was changed from 'error' to 'logloss'. Explicitly set eval_metric if you'd like to restore the old behavior.\n",
      "[CV 1/1] END ............colsample_bytree=1.0, subsample=0.8; total time=   2.6s\n",
      "[18:14:41] WARNING: ..\\src\\learner.cc:1061: Starting in XGBoost 1.3.0, the default evaluation metric used with the objective 'binary:logistic' was changed from 'error' to 'logloss'. Explicitly set eval_metric if you'd like to restore the old behavior.\n",
      "[CV 1/1] END ............colsample_bytree=1.0, subsample=0.9; total time=   2.4s\n",
      "[18:14:43] WARNING: ..\\src\\learner.cc:1061: Starting in XGBoost 1.3.0, the default evaluation metric used with the objective 'binary:logistic' was changed from 'error' to 'logloss'. Explicitly set eval_metric if you'd like to restore the old behavior.\n",
      "[CV 1/1] END ............colsample_bytree=1.0, subsample=1.0; total time=   2.2s\n",
      "[18:14:45] WARNING: ..\\src\\learner.cc:1061: Starting in XGBoost 1.3.0, the default evaluation metric used with the objective 'binary:logistic' was changed from 'error' to 'logloss'. Explicitly set eval_metric if you'd like to restore the old behavior.\n",
      "Best test ROC AUC:  0.9300238682895388\n",
      "Best params:  {'objective': 'binary:logistic', 'use_label_encoder': False, 'base_score': 0.5, 'booster': 'gbtree', 'colsample_bylevel': 1, 'colsample_bynode': 1, 'colsample_bytree': 0.8, 'gamma': 0.25, 'gpu_id': -1, 'importance_type': 'gain', 'interaction_constraints': '', 'learning_rate': 0.15, 'max_delta_step': 0, 'max_depth': 5, 'min_child_weight': 10, 'missing': nan, 'monotone_constraints': '()', 'n_estimators': 170, 'n_jobs': 4, 'num_parallel_tree': 1, 'random_state': 0, 'reg_alpha': 0, 'reg_lambda': 1, 'scale_pos_weight': 1, 'subsample': 1.0, 'tree_method': 'exact', 'validate_parameters': 1, 'verbosity': None}\n"
     ]
    }
   ],
   "source": [
    "model = xgb.XGBClassifier(**best_params)\n",
    "\n",
    "param_grid = {\n",
    "    'subsample': np.linspace(0.5, 1, 6),\n",
    "    'colsample_bytree': np.linspace(0.5, 1, 6)\n",
    "}\n",
    "\n",
    "best_params = find_params(model, param_grid)"
   ]
  },
  {
   "cell_type": "code",
   "execution_count": null,
   "id": "b66c7091",
   "metadata": {},
   "outputs": [],
   "source": []
  }
 ],
 "metadata": {
  "kernelspec": {
   "display_name": "Python 3",
   "language": "python",
   "name": "python3"
  },
  "language_info": {
   "codemirror_mode": {
    "name": "ipython",
    "version": 3
   },
   "file_extension": ".py",
   "mimetype": "text/x-python",
   "name": "python",
   "nbconvert_exporter": "python",
   "pygments_lexer": "ipython3",
   "version": "3.6.13"
  }
 },
 "nbformat": 4,
 "nbformat_minor": 5
}
